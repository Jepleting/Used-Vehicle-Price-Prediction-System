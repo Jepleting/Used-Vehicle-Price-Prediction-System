{
 "cells": [
  {
   "cell_type": "markdown",
   "id": "0ab39117",
   "metadata": {},
   "source": [
    "# Data Acquisition"
   ]
  },
  {
   "cell_type": "code",
   "execution_count": 1,
   "id": "73e9165c",
   "metadata": {},
   "outputs": [],
   "source": [
    "# import libraries\n",
    "import pandas as pd\n",
    "import numpy as np\n",
    "import matplotlib.pyplot as plt\n",
    "import seaborn as sns"
   ]
  },
  {
   "cell_type": "code",
   "execution_count": 2,
   "id": "c9961f1d",
   "metadata": {},
   "outputs": [
    {
     "data": {
      "text/html": [
       "<div>\n",
       "<style scoped>\n",
       "    .dataframe tbody tr th:only-of-type {\n",
       "        vertical-align: middle;\n",
       "    }\n",
       "\n",
       "    .dataframe tbody tr th {\n",
       "        vertical-align: top;\n",
       "    }\n",
       "\n",
       "    .dataframe thead th {\n",
       "        text-align: right;\n",
       "    }\n",
       "</style>\n",
       "<table border=\"1\" class=\"dataframe\">\n",
       "  <thead>\n",
       "    <tr style=\"text-align: right;\">\n",
       "      <th></th>\n",
       "      <th>id</th>\n",
       "      <th>url</th>\n",
       "      <th>region</th>\n",
       "      <th>region_url</th>\n",
       "      <th>price</th>\n",
       "      <th>year</th>\n",
       "      <th>manufacturer</th>\n",
       "      <th>model</th>\n",
       "      <th>condition</th>\n",
       "      <th>cylinders</th>\n",
       "      <th>...</th>\n",
       "      <th>size</th>\n",
       "      <th>type</th>\n",
       "      <th>paint_color</th>\n",
       "      <th>image_url</th>\n",
       "      <th>description</th>\n",
       "      <th>county</th>\n",
       "      <th>state</th>\n",
       "      <th>lat</th>\n",
       "      <th>long</th>\n",
       "      <th>posting_date</th>\n",
       "    </tr>\n",
       "  </thead>\n",
       "  <tbody>\n",
       "    <tr>\n",
       "      <th>0</th>\n",
       "      <td>7222695916</td>\n",
       "      <td>https://prescott.craigslist.org/cto/d/prescott...</td>\n",
       "      <td>prescott</td>\n",
       "      <td>https://prescott.craigslist.org</td>\n",
       "      <td>6000</td>\n",
       "      <td>NaN</td>\n",
       "      <td>NaN</td>\n",
       "      <td>NaN</td>\n",
       "      <td>NaN</td>\n",
       "      <td>NaN</td>\n",
       "      <td>...</td>\n",
       "      <td>NaN</td>\n",
       "      <td>NaN</td>\n",
       "      <td>NaN</td>\n",
       "      <td>NaN</td>\n",
       "      <td>NaN</td>\n",
       "      <td>NaN</td>\n",
       "      <td>az</td>\n",
       "      <td>NaN</td>\n",
       "      <td>NaN</td>\n",
       "      <td>NaN</td>\n",
       "    </tr>\n",
       "    <tr>\n",
       "      <th>1</th>\n",
       "      <td>7218891961</td>\n",
       "      <td>https://fayar.craigslist.org/ctd/d/bentonville...</td>\n",
       "      <td>fayetteville</td>\n",
       "      <td>https://fayar.craigslist.org</td>\n",
       "      <td>11900</td>\n",
       "      <td>NaN</td>\n",
       "      <td>NaN</td>\n",
       "      <td>NaN</td>\n",
       "      <td>NaN</td>\n",
       "      <td>NaN</td>\n",
       "      <td>...</td>\n",
       "      <td>NaN</td>\n",
       "      <td>NaN</td>\n",
       "      <td>NaN</td>\n",
       "      <td>NaN</td>\n",
       "      <td>NaN</td>\n",
       "      <td>NaN</td>\n",
       "      <td>ar</td>\n",
       "      <td>NaN</td>\n",
       "      <td>NaN</td>\n",
       "      <td>NaN</td>\n",
       "    </tr>\n",
       "    <tr>\n",
       "      <th>2</th>\n",
       "      <td>7221797935</td>\n",
       "      <td>https://keys.craigslist.org/cto/d/summerland-k...</td>\n",
       "      <td>florida keys</td>\n",
       "      <td>https://keys.craigslist.org</td>\n",
       "      <td>21000</td>\n",
       "      <td>NaN</td>\n",
       "      <td>NaN</td>\n",
       "      <td>NaN</td>\n",
       "      <td>NaN</td>\n",
       "      <td>NaN</td>\n",
       "      <td>...</td>\n",
       "      <td>NaN</td>\n",
       "      <td>NaN</td>\n",
       "      <td>NaN</td>\n",
       "      <td>NaN</td>\n",
       "      <td>NaN</td>\n",
       "      <td>NaN</td>\n",
       "      <td>fl</td>\n",
       "      <td>NaN</td>\n",
       "      <td>NaN</td>\n",
       "      <td>NaN</td>\n",
       "    </tr>\n",
       "    <tr>\n",
       "      <th>3</th>\n",
       "      <td>7222270760</td>\n",
       "      <td>https://worcester.craigslist.org/cto/d/west-br...</td>\n",
       "      <td>worcester / central MA</td>\n",
       "      <td>https://worcester.craigslist.org</td>\n",
       "      <td>1500</td>\n",
       "      <td>NaN</td>\n",
       "      <td>NaN</td>\n",
       "      <td>NaN</td>\n",
       "      <td>NaN</td>\n",
       "      <td>NaN</td>\n",
       "      <td>...</td>\n",
       "      <td>NaN</td>\n",
       "      <td>NaN</td>\n",
       "      <td>NaN</td>\n",
       "      <td>NaN</td>\n",
       "      <td>NaN</td>\n",
       "      <td>NaN</td>\n",
       "      <td>ma</td>\n",
       "      <td>NaN</td>\n",
       "      <td>NaN</td>\n",
       "      <td>NaN</td>\n",
       "    </tr>\n",
       "    <tr>\n",
       "      <th>4</th>\n",
       "      <td>7210384030</td>\n",
       "      <td>https://greensboro.craigslist.org/cto/d/trinit...</td>\n",
       "      <td>greensboro</td>\n",
       "      <td>https://greensboro.craigslist.org</td>\n",
       "      <td>4900</td>\n",
       "      <td>NaN</td>\n",
       "      <td>NaN</td>\n",
       "      <td>NaN</td>\n",
       "      <td>NaN</td>\n",
       "      <td>NaN</td>\n",
       "      <td>...</td>\n",
       "      <td>NaN</td>\n",
       "      <td>NaN</td>\n",
       "      <td>NaN</td>\n",
       "      <td>NaN</td>\n",
       "      <td>NaN</td>\n",
       "      <td>NaN</td>\n",
       "      <td>nc</td>\n",
       "      <td>NaN</td>\n",
       "      <td>NaN</td>\n",
       "      <td>NaN</td>\n",
       "    </tr>\n",
       "  </tbody>\n",
       "</table>\n",
       "<p>5 rows × 26 columns</p>\n",
       "</div>"
      ],
      "text/plain": [
       "           id                                                url  \\\n",
       "0  7222695916  https://prescott.craigslist.org/cto/d/prescott...   \n",
       "1  7218891961  https://fayar.craigslist.org/ctd/d/bentonville...   \n",
       "2  7221797935  https://keys.craigslist.org/cto/d/summerland-k...   \n",
       "3  7222270760  https://worcester.craigslist.org/cto/d/west-br...   \n",
       "4  7210384030  https://greensboro.craigslist.org/cto/d/trinit...   \n",
       "\n",
       "                   region                         region_url  price  year  \\\n",
       "0                prescott    https://prescott.craigslist.org   6000   NaN   \n",
       "1            fayetteville       https://fayar.craigslist.org  11900   NaN   \n",
       "2            florida keys        https://keys.craigslist.org  21000   NaN   \n",
       "3  worcester / central MA   https://worcester.craigslist.org   1500   NaN   \n",
       "4              greensboro  https://greensboro.craigslist.org   4900   NaN   \n",
       "\n",
       "  manufacturer model condition cylinders  ... size  type paint_color  \\\n",
       "0          NaN   NaN       NaN       NaN  ...  NaN   NaN         NaN   \n",
       "1          NaN   NaN       NaN       NaN  ...  NaN   NaN         NaN   \n",
       "2          NaN   NaN       NaN       NaN  ...  NaN   NaN         NaN   \n",
       "3          NaN   NaN       NaN       NaN  ...  NaN   NaN         NaN   \n",
       "4          NaN   NaN       NaN       NaN  ...  NaN   NaN         NaN   \n",
       "\n",
       "  image_url description county state lat long posting_date  \n",
       "0       NaN         NaN    NaN    az NaN  NaN          NaN  \n",
       "1       NaN         NaN    NaN    ar NaN  NaN          NaN  \n",
       "2       NaN         NaN    NaN    fl NaN  NaN          NaN  \n",
       "3       NaN         NaN    NaN    ma NaN  NaN          NaN  \n",
       "4       NaN         NaN    NaN    nc NaN  NaN          NaN  \n",
       "\n",
       "[5 rows x 26 columns]"
      ]
     },
     "execution_count": 2,
     "metadata": {},
     "output_type": "execute_result"
    }
   ],
   "source": [
    "# load the dataset\n",
    "df = pd.read_csv('vehicles.csv')\n",
    "# View the dataset\n",
    "df.head()"
   ]
  },
  {
   "cell_type": "markdown",
   "id": "9c139761",
   "metadata": {},
   "source": [
    "# Data Cleaning"
   ]
  },
  {
   "cell_type": "code",
   "execution_count": 3,
   "id": "7fb8155e",
   "metadata": {},
   "outputs": [
    {
     "name": "stdout",
     "output_type": "stream",
     "text": [
      "<class 'pandas.core.frame.DataFrame'>\n",
      "RangeIndex: 426880 entries, 0 to 426879\n",
      "Data columns (total 26 columns):\n",
      " #   Column        Non-Null Count   Dtype  \n",
      "---  ------        --------------   -----  \n",
      " 0   id            426880 non-null  int64  \n",
      " 1   url           426880 non-null  object \n",
      " 2   region        426880 non-null  object \n",
      " 3   region_url    426880 non-null  object \n",
      " 4   price         426880 non-null  int64  \n",
      " 5   year          425675 non-null  float64\n",
      " 6   manufacturer  409234 non-null  object \n",
      " 7   model         421603 non-null  object \n",
      " 8   condition     252776 non-null  object \n",
      " 9   cylinders     249202 non-null  object \n",
      " 10  fuel          423867 non-null  object \n",
      " 11  odometer      422480 non-null  float64\n",
      " 12  title_status  418638 non-null  object \n",
      " 13  transmission  424324 non-null  object \n",
      " 14  VIN           265838 non-null  object \n",
      " 15  drive         296313 non-null  object \n",
      " 16  size          120519 non-null  object \n",
      " 17  type          334022 non-null  object \n",
      " 18  paint_color   296677 non-null  object \n",
      " 19  image_url     426812 non-null  object \n",
      " 20  description   426810 non-null  object \n",
      " 21  county        0 non-null       float64\n",
      " 22  state         426880 non-null  object \n",
      " 23  lat           420331 non-null  float64\n",
      " 24  long          420331 non-null  float64\n",
      " 25  posting_date  426812 non-null  object \n",
      "dtypes: float64(5), int64(2), object(19)\n",
      "memory usage: 84.7+ MB\n"
     ]
    },
    {
     "data": {
      "text/plain": [
       "(426880, 26)"
      ]
     },
     "execution_count": 3,
     "metadata": {},
     "output_type": "execute_result"
    }
   ],
   "source": [
    "# View data info and shape\n",
    "df.info()\n",
    "df.shape"
   ]
  },
  {
   "cell_type": "code",
   "execution_count": 4,
   "id": "80d8bb05",
   "metadata": {},
   "outputs": [
    {
     "data": {
      "text/plain": [
       "False    426880\n",
       "dtype: int64"
      ]
     },
     "execution_count": 4,
     "metadata": {},
     "output_type": "execute_result"
    }
   ],
   "source": [
    "#Check for and remove duplicates\n",
    "df.duplicated().value_counts()"
   ]
  },
  {
   "cell_type": "code",
   "execution_count": 5,
   "id": "888103e4",
   "metadata": {},
   "outputs": [],
   "source": [
    "#Select required columns\n",
    "output = df[['region', 'price', 'year', 'manufacturer', 'model', \n",
    "             'fuel', 'odometer', 'title_status', 'transmission', \n",
    "             'condition', 'cylinders', 'drive', 'size', 'type', \n",
    "             'paint_color', 'state','image_url', 'lat', 'long', 'posting_date']]\n",
    "output.to_csv('vehicles2.csv',index=False)"
   ]
  },
  {
   "cell_type": "code",
   "execution_count": 6,
   "id": "92b19105",
   "metadata": {},
   "outputs": [
    {
     "data": {
      "text/html": [
       "<div>\n",
       "<style scoped>\n",
       "    .dataframe tbody tr th:only-of-type {\n",
       "        vertical-align: middle;\n",
       "    }\n",
       "\n",
       "    .dataframe tbody tr th {\n",
       "        vertical-align: top;\n",
       "    }\n",
       "\n",
       "    .dataframe thead th {\n",
       "        text-align: right;\n",
       "    }\n",
       "</style>\n",
       "<table border=\"1\" class=\"dataframe\">\n",
       "  <thead>\n",
       "    <tr style=\"text-align: right;\">\n",
       "      <th></th>\n",
       "      <th>region</th>\n",
       "      <th>price</th>\n",
       "      <th>year</th>\n",
       "      <th>manufacturer</th>\n",
       "      <th>model</th>\n",
       "      <th>fuel</th>\n",
       "      <th>odometer</th>\n",
       "      <th>title_status</th>\n",
       "      <th>transmission</th>\n",
       "      <th>condition</th>\n",
       "      <th>cylinders</th>\n",
       "      <th>drive</th>\n",
       "      <th>size</th>\n",
       "      <th>type</th>\n",
       "      <th>paint_color</th>\n",
       "      <th>state</th>\n",
       "      <th>image_url</th>\n",
       "      <th>lat</th>\n",
       "      <th>long</th>\n",
       "      <th>posting_date</th>\n",
       "    </tr>\n",
       "  </thead>\n",
       "  <tbody>\n",
       "    <tr>\n",
       "      <th>0</th>\n",
       "      <td>prescott</td>\n",
       "      <td>6000</td>\n",
       "      <td>NaN</td>\n",
       "      <td>NaN</td>\n",
       "      <td>NaN</td>\n",
       "      <td>NaN</td>\n",
       "      <td>NaN</td>\n",
       "      <td>NaN</td>\n",
       "      <td>NaN</td>\n",
       "      <td>NaN</td>\n",
       "      <td>NaN</td>\n",
       "      <td>NaN</td>\n",
       "      <td>NaN</td>\n",
       "      <td>NaN</td>\n",
       "      <td>NaN</td>\n",
       "      <td>az</td>\n",
       "      <td>NaN</td>\n",
       "      <td>NaN</td>\n",
       "      <td>NaN</td>\n",
       "      <td>NaN</td>\n",
       "    </tr>\n",
       "    <tr>\n",
       "      <th>1</th>\n",
       "      <td>fayetteville</td>\n",
       "      <td>11900</td>\n",
       "      <td>NaN</td>\n",
       "      <td>NaN</td>\n",
       "      <td>NaN</td>\n",
       "      <td>NaN</td>\n",
       "      <td>NaN</td>\n",
       "      <td>NaN</td>\n",
       "      <td>NaN</td>\n",
       "      <td>NaN</td>\n",
       "      <td>NaN</td>\n",
       "      <td>NaN</td>\n",
       "      <td>NaN</td>\n",
       "      <td>NaN</td>\n",
       "      <td>NaN</td>\n",
       "      <td>ar</td>\n",
       "      <td>NaN</td>\n",
       "      <td>NaN</td>\n",
       "      <td>NaN</td>\n",
       "      <td>NaN</td>\n",
       "    </tr>\n",
       "    <tr>\n",
       "      <th>2</th>\n",
       "      <td>florida keys</td>\n",
       "      <td>21000</td>\n",
       "      <td>NaN</td>\n",
       "      <td>NaN</td>\n",
       "      <td>NaN</td>\n",
       "      <td>NaN</td>\n",
       "      <td>NaN</td>\n",
       "      <td>NaN</td>\n",
       "      <td>NaN</td>\n",
       "      <td>NaN</td>\n",
       "      <td>NaN</td>\n",
       "      <td>NaN</td>\n",
       "      <td>NaN</td>\n",
       "      <td>NaN</td>\n",
       "      <td>NaN</td>\n",
       "      <td>fl</td>\n",
       "      <td>NaN</td>\n",
       "      <td>NaN</td>\n",
       "      <td>NaN</td>\n",
       "      <td>NaN</td>\n",
       "    </tr>\n",
       "    <tr>\n",
       "      <th>3</th>\n",
       "      <td>worcester / central MA</td>\n",
       "      <td>1500</td>\n",
       "      <td>NaN</td>\n",
       "      <td>NaN</td>\n",
       "      <td>NaN</td>\n",
       "      <td>NaN</td>\n",
       "      <td>NaN</td>\n",
       "      <td>NaN</td>\n",
       "      <td>NaN</td>\n",
       "      <td>NaN</td>\n",
       "      <td>NaN</td>\n",
       "      <td>NaN</td>\n",
       "      <td>NaN</td>\n",
       "      <td>NaN</td>\n",
       "      <td>NaN</td>\n",
       "      <td>ma</td>\n",
       "      <td>NaN</td>\n",
       "      <td>NaN</td>\n",
       "      <td>NaN</td>\n",
       "      <td>NaN</td>\n",
       "    </tr>\n",
       "    <tr>\n",
       "      <th>4</th>\n",
       "      <td>greensboro</td>\n",
       "      <td>4900</td>\n",
       "      <td>NaN</td>\n",
       "      <td>NaN</td>\n",
       "      <td>NaN</td>\n",
       "      <td>NaN</td>\n",
       "      <td>NaN</td>\n",
       "      <td>NaN</td>\n",
       "      <td>NaN</td>\n",
       "      <td>NaN</td>\n",
       "      <td>NaN</td>\n",
       "      <td>NaN</td>\n",
       "      <td>NaN</td>\n",
       "      <td>NaN</td>\n",
       "      <td>NaN</td>\n",
       "      <td>nc</td>\n",
       "      <td>NaN</td>\n",
       "      <td>NaN</td>\n",
       "      <td>NaN</td>\n",
       "      <td>NaN</td>\n",
       "    </tr>\n",
       "  </tbody>\n",
       "</table>\n",
       "</div>"
      ],
      "text/plain": [
       "                   region  price  year manufacturer model fuel  odometer  \\\n",
       "0                prescott   6000   NaN          NaN   NaN  NaN       NaN   \n",
       "1            fayetteville  11900   NaN          NaN   NaN  NaN       NaN   \n",
       "2            florida keys  21000   NaN          NaN   NaN  NaN       NaN   \n",
       "3  worcester / central MA   1500   NaN          NaN   NaN  NaN       NaN   \n",
       "4              greensboro   4900   NaN          NaN   NaN  NaN       NaN   \n",
       "\n",
       "  title_status transmission condition cylinders drive size type paint_color  \\\n",
       "0          NaN          NaN       NaN       NaN   NaN  NaN  NaN         NaN   \n",
       "1          NaN          NaN       NaN       NaN   NaN  NaN  NaN         NaN   \n",
       "2          NaN          NaN       NaN       NaN   NaN  NaN  NaN         NaN   \n",
       "3          NaN          NaN       NaN       NaN   NaN  NaN  NaN         NaN   \n",
       "4          NaN          NaN       NaN       NaN   NaN  NaN  NaN         NaN   \n",
       "\n",
       "  state image_url  lat  long posting_date  \n",
       "0    az       NaN  NaN   NaN          NaN  \n",
       "1    ar       NaN  NaN   NaN          NaN  \n",
       "2    fl       NaN  NaN   NaN          NaN  \n",
       "3    ma       NaN  NaN   NaN          NaN  \n",
       "4    nc       NaN  NaN   NaN          NaN  "
      ]
     },
     "execution_count": 6,
     "metadata": {},
     "output_type": "execute_result"
    }
   ],
   "source": [
    "df = pd.read_csv('vehicles2.csv')\n",
    "df.head()"
   ]
  },
  {
   "cell_type": "markdown",
   "id": "429cb9d2",
   "metadata": {},
   "source": [
    "There were no duplicate entries in the data. This could also be missleading as the id column could have different numbers but other details are identical."
   ]
  },
  {
   "cell_type": "code",
   "execution_count": 7,
   "id": "69b7ee47",
   "metadata": {},
   "outputs": [
    {
     "data": {
      "text/plain": [
       "False    426845\n",
       "True         35\n",
       "dtype: int64"
      ]
     },
     "execution_count": 7,
     "metadata": {},
     "output_type": "execute_result"
    }
   ],
   "source": [
    "#Check for duplicates after removing ID column\n",
    "df.duplicated().value_counts()"
   ]
  },
  {
   "cell_type": "code",
   "execution_count": 8,
   "id": "ff58e8c9",
   "metadata": {},
   "outputs": [
    {
     "data": {
      "text/plain": [
       "(426845, 20)"
      ]
     },
     "execution_count": 8,
     "metadata": {},
     "output_type": "execute_result"
    }
   ],
   "source": [
    "#Drop the 35 duplicate columns\n",
    "df.drop_duplicates(inplace=True)\n",
    "df.shape"
   ]
  },
  {
   "cell_type": "raw",
   "id": "51d2cbda",
   "metadata": {},
   "source": [
    "Select variables and remove missing values"
   ]
  },
  {
   "cell_type": "code",
   "execution_count": 9,
   "id": "95c680e1",
   "metadata": {},
   "outputs": [
    {
     "data": {
      "text/plain": [
       "0                              NaN\n",
       "1                              NaN\n",
       "2                              NaN\n",
       "3                              NaN\n",
       "4                              NaN\n",
       "                    ...           \n",
       "426875    2021-04-04T03:21:31-0600\n",
       "426876    2021-04-04T03:21:29-0600\n",
       "426877    2021-04-04T03:21:17-0600\n",
       "426878    2021-04-04T03:21:11-0600\n",
       "426879    2021-04-04T03:21:07-0600\n",
       "Name: posting_date, Length: 426845, dtype: object"
      ]
     },
     "execution_count": 9,
     "metadata": {},
     "output_type": "execute_result"
    }
   ],
   "source": [
    "#check the posting dates against the geographical positions to filter hotspots.\n",
    "#view posting date format\n",
    "df.posting_date"
   ]
  },
  {
   "cell_type": "code",
   "execution_count": 10,
   "id": "820e8845",
   "metadata": {},
   "outputs": [
    {
     "data": {
      "text/plain": [
       "27          May-04\n",
       "28          May-04\n",
       "29          May-04\n",
       "30          May-04\n",
       "31          May-03\n",
       "            ...   \n",
       "426875    April-04\n",
       "426876    April-04\n",
       "426877    April-04\n",
       "426878    April-04\n",
       "426879    April-04\n",
       "Name: postmd, Length: 426788, dtype: object"
      ]
     },
     "execution_count": 10,
     "metadata": {},
     "output_type": "execute_result"
    }
   ],
   "source": [
    "# change posting date to datetime format and get the day and month\n",
    "df=df.dropna(subset=['posting_date'],axis=0)\n",
    "df['postmd'] = pd.to_datetime(df['posting_date'],utc=True).apply(lambda x: x.strftime('%B-%d')\n",
    "                                                            if not pd.isnull(x) else '')\n",
    "df['postmd']"
   ]
  },
  {
   "cell_type": "code",
   "execution_count": 11,
   "id": "9e087d31",
   "metadata": {},
   "outputs": [
    {
     "data": {
      "text/plain": [
       "(426788, 21)"
      ]
     },
     "execution_count": 11,
     "metadata": {},
     "output_type": "execute_result"
    }
   ],
   "source": [
    "df.sort_values(by='postmd')\n",
    "df.shape"
   ]
  },
  {
   "cell_type": "markdown",
   "id": "fbfe529b",
   "metadata": {},
   "source": [
    "Work on the missing data"
   ]
  },
  {
   "cell_type": "code",
   "execution_count": 12,
   "id": "bf5254da",
   "metadata": {},
   "outputs": [
    {
     "data": {
      "image/png": "[encoded data removed]",
      "text/plain": [
       "<Figure size 576x360 with 1 Axes>"
      ]
     },
     "metadata": {
      "needs_background": "light"
     },
     "output_type": "display_data"
    }
   ],
   "source": [
    "\n",
    "#visualize the missing data\n",
    "fig, (ax1) = plt.subplots(1,figsize=(8,5))\n",
    "#bar plot of missing values\n",
    "ax1.bar(df.columns,df.isna().sum())\n",
    "ax1.set_ylabel('Missing values')\n",
    "ax1.set_ylim(0,df.shape[0])\n",
    "ax1.tick_params('x',labelrotation=90)"
   ]
  },
  {
   "cell_type": "markdown",
   "id": "b4726fd9",
   "metadata": {},
   "source": [
    "Size, condition, cylinders, drive, paint_color, and type have a lot of missing data and since more than 50% of values in the size columns is missing, it will be removed."
   ]
  },
  {
   "cell_type": "code",
   "execution_count": 13,
   "id": "0e842ed7",
   "metadata": {},
   "outputs": [],
   "source": [
    "#Remove size column \n",
    "df.drop(['size'],axis=1,inplace=True)"
   ]
  },
  {
   "cell_type": "code",
   "execution_count": 14,
   "id": "d02f7139",
   "metadata": {},
   "outputs": [
    {
     "data": {
      "text/plain": [
       "(412348, 20)"
      ]
     },
     "execution_count": 14,
     "metadata": {},
     "output_type": "execute_result"
    }
   ],
   "source": [
    "#drop missing rows in year, model, fuel, odometer, transmission  \n",
    "#these values are important information and cannot be easily obtained.\n",
    "df.dropna(subset=['year','model','fuel','odometer','transmission'],axis=0,inplace=True)\n",
    "df.shape"
   ]
  },
  {
   "cell_type": "code",
   "execution_count": 15,
   "id": "816d5100",
   "metadata": {},
   "outputs": [
    {
     "data": {
      "text/plain": [
       "(412348, 20)"
      ]
     },
     "execution_count": 15,
     "metadata": {},
     "output_type": "execute_result"
    }
   ],
   "source": [
    "# remove rows with concurrent missing values present in all of the remaining columns\n",
    "df.dropna(subset=['year','model','fuel','odometer','transmission'],axis=0,inplace=True)\n",
    "df.shape"
   ]
  },
  {
   "cell_type": "code",
   "execution_count": 16,
   "id": "555aa735",
   "metadata": {},
   "outputs": [
    {
     "data": {
      "text/plain": [
       "(302565, 20)"
      ]
     },
     "execution_count": 16,
     "metadata": {},
     "output_type": "execute_result"
    }
   ],
   "source": [
    "#keep rows with at least 7 non-NA values\n",
    "df.dropna(subset=['manufacturer', 'condition', 'cylinders', 'title_status', \n",
    "                    'drive', 'type', 'paint_color', 'lat', 'long'], axis=0, thresh=7, inplace=True)\n",
    "df.shape"
   ]
  },
  {
   "cell_type": "markdown",
   "id": "02bd60bb",
   "metadata": {},
   "source": [
    "Search and remove outliers in the columns with numerical values, namely: price and odometer"
   ]
  },
  {
   "cell_type": "code",
   "execution_count": 17,
   "id": "3a005d60",
   "metadata": {},
   "outputs": [
    {
     "data": {
      "image/png": "[encoded data removed]",
      "text/plain": [
       "<Figure size 576x288 with 1 Axes>"
      ]
     },
     "metadata": {
      "needs_background": "light"
     },
     "output_type": "display_data"
    }
   ],
   "source": [
    "#check the price column for outliers\n",
    "fig,ax=plt.subplots(figsize=(8,4))\n",
    "df.price.hist()\n",
    "plt.title('Price distribution')\n",
    "plt.grid(False)"
   ]
  },
  {
   "cell_type": "code",
   "execution_count": 18,
   "id": "8c64cdbc",
   "metadata": {},
   "outputs": [
    {
     "data": {
      "image/png": "[encoded data removed]",
      "text/plain": [
       "<Figure size 1152x360 with 1 Axes>"
      ]
     },
     "metadata": {
      "needs_background": "light"
     },
     "output_type": "display_data"
    }
   ],
   "source": [
    "#use boxplots to find outliers\n",
    "fig,ax=plt.subplots(1,1,figsize=(16,5))\n",
    "df.boxplot('price','manufacturer',ax=ax)\n",
    "plt.grid(True)\n",
    "plt.xticks(rotation=90)\n",
    "plt.show()"
   ]
  },
  {
   "cell_type": "markdown",
   "id": "54f91ca9",
   "metadata": {},
   "source": [
    "High price strangely related to ford and toyota yet they are not known for high end luxury or sporting cars.\n",
    "IT might be an erorr in data enrty or scraping."
   ]
  },
  {
   "cell_type": "code",
   "execution_count": 19,
   "id": "dc74dab0",
   "metadata": {},
   "outputs": [
    {
     "data": {
      "image/png": "[encoded data removed]",
      "text/plain": [
       "<Figure size 1152x360 with 1 Axes>"
      ]
     },
     "metadata": {
      "needs_background": "light"
     },
     "output_type": "display_data"
    }
   ],
   "source": [
    "#boxplot grouped according to cylinders\n",
    "fig,ax=plt.subplots(1,1,figsize=(16,5))\n",
    "df.boxplot('price','cylinders',ax=ax)\n",
    "plt.grid(True)\n",
    "plt.xticks(rotation=90)\n",
    "plt.show()"
   ]
  },
  {
   "cell_type": "markdown",
   "id": "2f3f9de2",
   "metadata": {},
   "source": [
    "High price related to 6 and 8 cylinder cars which indicate large pickups or sporting cars"
   ]
  },
  {
   "cell_type": "code",
   "execution_count": 20,
   "id": "d9281422",
   "metadata": {},
   "outputs": [
    {
     "data": {
      "image/png": "[encoded data removed]",
      "text/plain": [
       "<Figure size 1152x360 with 1 Axes>"
      ]
     },
     "metadata": {
      "needs_background": "light"
     },
     "output_type": "display_data"
    }
   ],
   "source": [
    "#boxplot grouped according to type\n",
    "fig,ax=plt.subplots(1,1,figsize=(16,5))\n",
    "df.boxplot('price','type',ax=ax)\n",
    "plt.grid(True)\n",
    "plt.xticks(rotation=90)\n",
    "plt.show()"
   ]
  },
  {
   "cell_type": "markdown",
   "id": "2d92c499",
   "metadata": {},
   "source": [
    "High price strangely related to pickup trucks"
   ]
  },
  {
   "cell_type": "code",
   "execution_count": 21,
   "id": "506c1bfa",
   "metadata": {},
   "outputs": [
    {
     "data": {
      "image/png": "[encoded data removed]",
      "text/plain": [
       "<Figure size 1152x360 with 1 Axes>"
      ]
     },
     "metadata": {
      "needs_background": "light"
     },
     "output_type": "display_data"
    }
   ],
   "source": [
    "#boxplot grouped according to condition\n",
    "fig,ax=plt.subplots(1,1,figsize=(16,5))\n",
    "df.boxplot('price','condition',ax=ax)\n",
    "plt.grid(True)\n",
    "plt.xticks(rotation=90)\n",
    "plt.show()"
   ]
  },
  {
   "cell_type": "markdown",
   "id": "260d4c07",
   "metadata": {},
   "source": [
    "High price not related to new cars"
   ]
  },
  {
   "cell_type": "code",
   "execution_count": 22,
   "id": "1ac9eebb",
   "metadata": {},
   "outputs": [
    {
     "data": {
      "text/html": [
       "<div>\n",
       "<style scoped>\n",
       "    .dataframe tbody tr th:only-of-type {\n",
       "        vertical-align: middle;\n",
       "    }\n",
       "\n",
       "    .dataframe tbody tr th {\n",
       "        vertical-align: top;\n",
       "    }\n",
       "\n",
       "    .dataframe thead th {\n",
       "        text-align: right;\n",
       "    }\n",
       "</style>\n",
       "<table border=\"1\" class=\"dataframe\">\n",
       "  <thead>\n",
       "    <tr style=\"text-align: right;\">\n",
       "      <th></th>\n",
       "      <th>region</th>\n",
       "      <th>price</th>\n",
       "      <th>year</th>\n",
       "      <th>manufacturer</th>\n",
       "      <th>model</th>\n",
       "      <th>fuel</th>\n",
       "      <th>odometer</th>\n",
       "      <th>title_status</th>\n",
       "      <th>transmission</th>\n",
       "      <th>condition</th>\n",
       "      <th>cylinders</th>\n",
       "      <th>drive</th>\n",
       "      <th>type</th>\n",
       "      <th>paint_color</th>\n",
       "      <th>state</th>\n",
       "      <th>image_url</th>\n",
       "      <th>lat</th>\n",
       "      <th>long</th>\n",
       "      <th>posting_date</th>\n",
       "      <th>postmd</th>\n",
       "    </tr>\n",
       "  </thead>\n",
       "  <tbody>\n",
       "    <tr>\n",
       "      <th>68935</th>\n",
       "      <td>ventura county</td>\n",
       "      <td>2000000</td>\n",
       "      <td>2002.0</td>\n",
       "      <td>saturn</td>\n",
       "      <td>l-series l200 4dr sedan</td>\n",
       "      <td>gas</td>\n",
       "      <td>164290.0</td>\n",
       "      <td>clean</td>\n",
       "      <td>automatic</td>\n",
       "      <td>good</td>\n",
       "      <td>4 cylinders</td>\n",
       "      <td>fwd</td>\n",
       "      <td>sedan</td>\n",
       "      <td>green</td>\n",
       "      <td>ca</td>\n",
       "      <td>https://images.craigslist.org/00y0y_hw8QSdnerF...</td>\n",
       "      <td>34.236498</td>\n",
       "      <td>-119.039074</td>\n",
       "      <td>2021-04-06T16:40:31-0700</td>\n",
       "      <td>April-06</td>\n",
       "    </tr>\n",
       "    <tr>\n",
       "      <th>95119</th>\n",
       "      <td>ft myers / SW florida</td>\n",
       "      <td>990000</td>\n",
       "      <td>2017.0</td>\n",
       "      <td>mercedes-benz</td>\n",
       "      <td>amg g 63</td>\n",
       "      <td>gas</td>\n",
       "      <td>4085.0</td>\n",
       "      <td>clean</td>\n",
       "      <td>automatic</td>\n",
       "      <td>NaN</td>\n",
       "      <td>8 cylinders</td>\n",
       "      <td>4wd</td>\n",
       "      <td>SUV</td>\n",
       "      <td>white</td>\n",
       "      <td>fl</td>\n",
       "      <td>https://images.craigslist.org/00P0P_4xcfVqDGil...</td>\n",
       "      <td>26.157900</td>\n",
       "      <td>-81.766548</td>\n",
       "      <td>2021-04-24T13:12:08-0400</td>\n",
       "      <td>April-24</td>\n",
       "    </tr>\n",
       "    <tr>\n",
       "      <th>105843</th>\n",
       "      <td>orlando</td>\n",
       "      <td>6995495</td>\n",
       "      <td>2014.0</td>\n",
       "      <td>dodge</td>\n",
       "      <td>journey</td>\n",
       "      <td>gas</td>\n",
       "      <td>135888.0</td>\n",
       "      <td>clean</td>\n",
       "      <td>automatic</td>\n",
       "      <td>NaN</td>\n",
       "      <td>4 cylinders</td>\n",
       "      <td>fwd</td>\n",
       "      <td>SUV</td>\n",
       "      <td>NaN</td>\n",
       "      <td>fl</td>\n",
       "      <td>https://images.craigslist.org/01010_d7c56qbQLs...</td>\n",
       "      <td>28.394900</td>\n",
       "      <td>-81.417900</td>\n",
       "      <td>2021-04-28T20:11:41-0400</td>\n",
       "      <td>April-29</td>\n",
       "    </tr>\n",
       "    <tr>\n",
       "      <th>106361</th>\n",
       "      <td>orlando</td>\n",
       "      <td>516999</td>\n",
       "      <td>2016.0</td>\n",
       "      <td>NaN</td>\n",
       "      <td>Lambo Aventador SV Roadster</td>\n",
       "      <td>gas</td>\n",
       "      <td>9982.0</td>\n",
       "      <td>clean</td>\n",
       "      <td>automatic</td>\n",
       "      <td>like new</td>\n",
       "      <td>12 cylinders</td>\n",
       "      <td>4wd</td>\n",
       "      <td>convertible</td>\n",
       "      <td>white</td>\n",
       "      <td>fl</td>\n",
       "      <td>https://images.craigslist.org/00n0n_eGPWhFc9Nn...</td>\n",
       "      <td>28.463700</td>\n",
       "      <td>-81.394800</td>\n",
       "      <td>2021-04-26T17:40:47-0400</td>\n",
       "      <td>April-26</td>\n",
       "    </tr>\n",
       "    <tr>\n",
       "      <th>136516</th>\n",
       "      <td>spokane / coeur d'alene</td>\n",
       "      <td>17000000</td>\n",
       "      <td>2007.0</td>\n",
       "      <td>ram</td>\n",
       "      <td>2500</td>\n",
       "      <td>diesel</td>\n",
       "      <td>170000.0</td>\n",
       "      <td>rebuilt</td>\n",
       "      <td>automatic</td>\n",
       "      <td>good</td>\n",
       "      <td>8 cylinders</td>\n",
       "      <td>4wd</td>\n",
       "      <td>pickup</td>\n",
       "      <td>black</td>\n",
       "      <td>id</td>\n",
       "      <td>https://images.craigslist.org/01414_gkRWFvHd8y...</td>\n",
       "      <td>47.642227</td>\n",
       "      <td>-117.348404</td>\n",
       "      <td>2021-05-02T19:27:17-0700</td>\n",
       "      <td>May-03</td>\n",
       "    </tr>\n",
       "    <tr>\n",
       "      <th>155421</th>\n",
       "      <td>terre haute</td>\n",
       "      <td>1234567</td>\n",
       "      <td>2006.0</td>\n",
       "      <td>jeep</td>\n",
       "      <td>wrangler</td>\n",
       "      <td>gas</td>\n",
       "      <td>123456.0</td>\n",
       "      <td>clean</td>\n",
       "      <td>automatic</td>\n",
       "      <td>like new</td>\n",
       "      <td>6 cylinders</td>\n",
       "      <td>4wd</td>\n",
       "      <td>SUV</td>\n",
       "      <td>custom</td>\n",
       "      <td>in</td>\n",
       "      <td>https://images.craigslist.org/00j0j_1NcNYUY3ww...</td>\n",
       "      <td>38.025845</td>\n",
       "      <td>-87.596457</td>\n",
       "      <td>2021-04-18T11:26:55-0400</td>\n",
       "      <td>April-18</td>\n",
       "    </tr>\n",
       "    <tr>\n",
       "      <th>194292</th>\n",
       "      <td>ann arbor</td>\n",
       "      <td>1234567</td>\n",
       "      <td>2010.0</td>\n",
       "      <td>lincoln</td>\n",
       "      <td>mkt ecoboost</td>\n",
       "      <td>gas</td>\n",
       "      <td>85653.0</td>\n",
       "      <td>clean</td>\n",
       "      <td>automatic</td>\n",
       "      <td>like new</td>\n",
       "      <td>NaN</td>\n",
       "      <td>NaN</td>\n",
       "      <td>SUV</td>\n",
       "      <td>custom</td>\n",
       "      <td>mi</td>\n",
       "      <td>https://images.craigslist.org/00000_jJCci6NDXh...</td>\n",
       "      <td>41.381500</td>\n",
       "      <td>-83.650700</td>\n",
       "      <td>2021-04-16T15:15:44-0400</td>\n",
       "      <td>April-16</td>\n",
       "    </tr>\n",
       "    <tr>\n",
       "      <th>208617</th>\n",
       "      <td>saginaw-midland-baycity</td>\n",
       "      <td>554900</td>\n",
       "      <td>2019.0</td>\n",
       "      <td>NaN</td>\n",
       "      <td>f250 xlt crewcab</td>\n",
       "      <td>gas</td>\n",
       "      <td>25365.0</td>\n",
       "      <td>lien</td>\n",
       "      <td>automatic</td>\n",
       "      <td>excellent</td>\n",
       "      <td>8 cylinders</td>\n",
       "      <td>4wd</td>\n",
       "      <td>pickup</td>\n",
       "      <td>white</td>\n",
       "      <td>mi</td>\n",
       "      <td>https://images.craigslist.org/00U0U_gbHHsMui1m...</td>\n",
       "      <td>43.637500</td>\n",
       "      <td>-84.197900</td>\n",
       "      <td>2021-05-02T18:30:41-0400</td>\n",
       "      <td>May-02</td>\n",
       "    </tr>\n",
       "    <tr>\n",
       "      <th>219241</th>\n",
       "      <td>southwest MS</td>\n",
       "      <td>1111111</td>\n",
       "      <td>1970.0</td>\n",
       "      <td>dodge</td>\n",
       "      <td>challenger</td>\n",
       "      <td>gas</td>\n",
       "      <td>42000.0</td>\n",
       "      <td>clean</td>\n",
       "      <td>automatic</td>\n",
       "      <td>fair</td>\n",
       "      <td>8 cylinders</td>\n",
       "      <td>rwd</td>\n",
       "      <td>coupe</td>\n",
       "      <td>blue</td>\n",
       "      <td>ms</td>\n",
       "      <td>https://images.craigslist.org/00303_jfKeiE5HbH...</td>\n",
       "      <td>47.509800</td>\n",
       "      <td>-111.273400</td>\n",
       "      <td>2021-04-11T19:04:00-0500</td>\n",
       "      <td>April-12</td>\n",
       "    </tr>\n",
       "    <tr>\n",
       "      <th>327938</th>\n",
       "      <td>altoona-johnstown</td>\n",
       "      <td>3226714</td>\n",
       "      <td>2002.0</td>\n",
       "      <td>NaN</td>\n",
       "      <td>any and all</td>\n",
       "      <td>diesel</td>\n",
       "      <td>1234.0</td>\n",
       "      <td>clean</td>\n",
       "      <td>manual</td>\n",
       "      <td>fair</td>\n",
       "      <td>8 cylinders</td>\n",
       "      <td>4wd</td>\n",
       "      <td>sedan</td>\n",
       "      <td>blue</td>\n",
       "      <td>pa</td>\n",
       "      <td>https://images.craigslist.org/00B0B_heEI8cTCHX...</td>\n",
       "      <td>40.480100</td>\n",
       "      <td>-78.726300</td>\n",
       "      <td>2021-04-29T18:24:17-0400</td>\n",
       "      <td>April-29</td>\n",
       "    </tr>\n",
       "  </tbody>\n",
       "</table>\n",
       "</div>"
      ],
      "text/plain": [
       "                         region     price    year   manufacturer  \\\n",
       "68935            ventura county   2000000  2002.0         saturn   \n",
       "95119     ft myers / SW florida    990000  2017.0  mercedes-benz   \n",
       "105843                  orlando   6995495  2014.0          dodge   \n",
       "106361                  orlando    516999  2016.0            NaN   \n",
       "136516  spokane / coeur d'alene  17000000  2007.0            ram   \n",
       "155421              terre haute   1234567  2006.0           jeep   \n",
       "194292                ann arbor   1234567  2010.0        lincoln   \n",
       "208617  saginaw-midland-baycity    554900  2019.0            NaN   \n",
       "219241             southwest MS   1111111  1970.0          dodge   \n",
       "327938        altoona-johnstown   3226714  2002.0            NaN   \n",
       "\n",
       "                              model    fuel  odometer title_status  \\\n",
       "68935       l-series l200 4dr sedan     gas  164290.0        clean   \n",
       "95119                      amg g 63     gas    4085.0        clean   \n",
       "105843                      journey     gas  135888.0        clean   \n",
       "106361  Lambo Aventador SV Roadster     gas    9982.0        clean   \n",
       "136516                         2500  diesel  170000.0      rebuilt   \n",
       "155421                     wrangler     gas  123456.0        clean   \n",
       "194292                 mkt ecoboost     gas   85653.0        clean   \n",
       "208617             f250 xlt crewcab     gas   25365.0         lien   \n",
       "219241                   challenger     gas   42000.0        clean   \n",
       "327938                  any and all  diesel    1234.0        clean   \n",
       "\n",
       "       transmission  condition     cylinders drive         type paint_color  \\\n",
       "68935     automatic       good   4 cylinders   fwd        sedan       green   \n",
       "95119     automatic        NaN   8 cylinders   4wd          SUV       white   \n",
       "105843    automatic        NaN   4 cylinders   fwd          SUV         NaN   \n",
       "106361    automatic   like new  12 cylinders   4wd  convertible       white   \n",
       "136516    automatic       good   8 cylinders   4wd       pickup       black   \n",
       "155421    automatic   like new   6 cylinders   4wd          SUV      custom   \n",
       "194292    automatic   like new           NaN   NaN          SUV      custom   \n",
       "208617    automatic  excellent   8 cylinders   4wd       pickup       white   \n",
       "219241    automatic       fair   8 cylinders   rwd        coupe        blue   \n",
       "327938       manual       fair   8 cylinders   4wd        sedan        blue   \n",
       "\n",
       "       state                                          image_url        lat  \\\n",
       "68935     ca  https://images.craigslist.org/00y0y_hw8QSdnerF...  34.236498   \n",
       "95119     fl  https://images.craigslist.org/00P0P_4xcfVqDGil...  26.157900   \n",
       "105843    fl  https://images.craigslist.org/01010_d7c56qbQLs...  28.394900   \n",
       "106361    fl  https://images.craigslist.org/00n0n_eGPWhFc9Nn...  28.463700   \n",
       "136516    id  https://images.craigslist.org/01414_gkRWFvHd8y...  47.642227   \n",
       "155421    in  https://images.craigslist.org/00j0j_1NcNYUY3ww...  38.025845   \n",
       "194292    mi  https://images.craigslist.org/00000_jJCci6NDXh...  41.381500   \n",
       "208617    mi  https://images.craigslist.org/00U0U_gbHHsMui1m...  43.637500   \n",
       "219241    ms  https://images.craigslist.org/00303_jfKeiE5HbH...  47.509800   \n",
       "327938    pa  https://images.craigslist.org/00B0B_heEI8cTCHX...  40.480100   \n",
       "\n",
       "              long              posting_date    postmd  \n",
       "68935  -119.039074  2021-04-06T16:40:31-0700  April-06  \n",
       "95119   -81.766548  2021-04-24T13:12:08-0400  April-24  \n",
       "105843  -81.417900  2021-04-28T20:11:41-0400  April-29  \n",
       "106361  -81.394800  2021-04-26T17:40:47-0400  April-26  \n",
       "136516 -117.348404  2021-05-02T19:27:17-0700    May-03  \n",
       "155421  -87.596457  2021-04-18T11:26:55-0400  April-18  \n",
       "194292  -83.650700  2021-04-16T15:15:44-0400  April-16  \n",
       "208617  -84.197900  2021-05-02T18:30:41-0400    May-02  \n",
       "219241 -111.273400  2021-04-11T19:04:00-0500  April-12  \n",
       "327938  -78.726300  2021-04-29T18:24:17-0400  April-29  "
      ]
     },
     "execution_count": 22,
     "metadata": {},
     "output_type": "execute_result"
    }
   ],
   "source": [
    "#view the high priced car outliers\n",
    "outlier=df.loc[((df.price > 500_000) & (df.price < 100_000_000))]\n",
    "outlier"
   ]
  },
  {
   "cell_type": "code",
   "execution_count": 25,
   "id": "1b3131d1",
   "metadata": {},
   "outputs": [],
   "source": [
    "#set a reasonable price range of between 1,000 USD and 200,000 USD.\n",
    "#filter data for price between 1k and 200k\n",
    "df2 = df.loc[(df.price >= 1_000) & (df.price <= 200_000)]\n",
    "sns.set()\n"
   ]
  },
  {
   "cell_type": "code",
   "execution_count": 26,
   "id": "289312fc",
   "metadata": {},
   "outputs": [
    {
     "data": {
      "image/png": "[encoded data removed]",
      "text/plain": [
       "<Figure size 576x432 with 1 Axes>"
      ]
     },
     "metadata": {},
     "output_type": "display_data"
    }
   ],
   "source": [
    "#check the odometer column for outliers\n",
    "fig,ax=plt.subplots(figsize=(8,6))\n",
    "df2.odometer.hist()\n",
    "plt.title('Odometer distribution')\n",
    "plt.grid(False)"
   ]
  },
  {
   "cell_type": "code",
   "execution_count": null,
   "id": "80aa7bdf",
   "metadata": {},
   "outputs": [],
   "source": []
  },
  {
   "cell_type": "code",
   "execution_count": null,
   "id": "5f41093c",
   "metadata": {},
   "outputs": [],
   "source": []
  },
  {
   "cell_type": "code",
   "execution_count": 27,
   "id": "8f36c7c1",
   "metadata": {},
   "outputs": [
    {
     "data": {
      "image/png": "[encoded data removed]",
      "text/plain": [
       "<Figure size 576x432 with 1 Axes>"
      ]
     },
     "metadata": {},
     "output_type": "display_data"
    }
   ],
   "source": [
    "#filter data for odometer between 0 miles and 500,000 km\n",
    "df3 = df2.loc[(df2.odometer >= 45_000) & (df2.odometer <= 500_000)]\n",
    "fig,(ax)=plt.subplots(figsize=(8,6))\n",
    "df3.odometer.plot(kind='box')\n",
    "ax.set_title('0 - 500,000 km odometer range')\n",
    "plt.grid(None)"
   ]
  },
  {
   "cell_type": "code",
   "execution_count": 28,
   "id": "215eb9bb",
   "metadata": {},
   "outputs": [
    {
     "data": {
      "text/plain": [
       "(191279, 20)"
      ]
     },
     "execution_count": 28,
     "metadata": {},
     "output_type": "execute_result"
    }
   ],
   "source": [
    "df3.shape"
   ]
  },
  {
   "cell_type": "code",
   "execution_count": 29,
   "id": "586a867a",
   "metadata": {},
   "outputs": [
    {
     "data": {
      "text/html": [
       "<div>\n",
       "<style scoped>\n",
       "    .dataframe tbody tr th:only-of-type {\n",
       "        vertical-align: middle;\n",
       "    }\n",
       "\n",
       "    .dataframe tbody tr th {\n",
       "        vertical-align: top;\n",
       "    }\n",
       "\n",
       "    .dataframe thead th {\n",
       "        text-align: right;\n",
       "    }\n",
       "</style>\n",
       "<table border=\"1\" class=\"dataframe\">\n",
       "  <thead>\n",
       "    <tr style=\"text-align: right;\">\n",
       "      <th></th>\n",
       "      <th>region</th>\n",
       "      <th>price</th>\n",
       "      <th>year</th>\n",
       "      <th>manufacturer</th>\n",
       "      <th>model</th>\n",
       "      <th>fuel</th>\n",
       "      <th>odometer</th>\n",
       "      <th>title_status</th>\n",
       "      <th>transmission</th>\n",
       "      <th>condition</th>\n",
       "      <th>cylinders</th>\n",
       "      <th>drive</th>\n",
       "      <th>type</th>\n",
       "      <th>paint_color</th>\n",
       "      <th>state</th>\n",
       "      <th>image_url</th>\n",
       "      <th>lat</th>\n",
       "      <th>long</th>\n",
       "      <th>posting_date</th>\n",
       "      <th>postmd</th>\n",
       "    </tr>\n",
       "  </thead>\n",
       "  <tbody>\n",
       "    <tr>\n",
       "      <th>0</th>\n",
       "      <td>auburn</td>\n",
       "      <td>33590</td>\n",
       "      <td>2014.0</td>\n",
       "      <td>gmc</td>\n",
       "      <td>sierra 1500 crew cab slt</td>\n",
       "      <td>gas</td>\n",
       "      <td>57923.0</td>\n",
       "      <td>clean</td>\n",
       "      <td>other</td>\n",
       "      <td>good</td>\n",
       "      <td>8 cylinders</td>\n",
       "      <td>NaN</td>\n",
       "      <td>pickup</td>\n",
       "      <td>white</td>\n",
       "      <td>al</td>\n",
       "      <td>https://images.craigslist.org/00R0R_lwWjXSEWNa...</td>\n",
       "      <td>32.5900</td>\n",
       "      <td>-85.4800</td>\n",
       "      <td>2021-05-04T12:31:18-0500</td>\n",
       "      <td>May-04</td>\n",
       "    </tr>\n",
       "    <tr>\n",
       "      <th>1</th>\n",
       "      <td>auburn</td>\n",
       "      <td>22590</td>\n",
       "      <td>2010.0</td>\n",
       "      <td>chevrolet</td>\n",
       "      <td>silverado 1500</td>\n",
       "      <td>gas</td>\n",
       "      <td>71229.0</td>\n",
       "      <td>clean</td>\n",
       "      <td>other</td>\n",
       "      <td>good</td>\n",
       "      <td>8 cylinders</td>\n",
       "      <td>NaN</td>\n",
       "      <td>pickup</td>\n",
       "      <td>blue</td>\n",
       "      <td>al</td>\n",
       "      <td>https://images.craigslist.org/00R0R_lwWjXSEWNa...</td>\n",
       "      <td>32.5900</td>\n",
       "      <td>-85.4800</td>\n",
       "      <td>2021-05-04T12:31:08-0500</td>\n",
       "      <td>May-04</td>\n",
       "    </tr>\n",
       "    <tr>\n",
       "      <th>2</th>\n",
       "      <td>auburn</td>\n",
       "      <td>15000</td>\n",
       "      <td>2013.0</td>\n",
       "      <td>ford</td>\n",
       "      <td>f-150 xlt</td>\n",
       "      <td>gas</td>\n",
       "      <td>128000.0</td>\n",
       "      <td>clean</td>\n",
       "      <td>automatic</td>\n",
       "      <td>excellent</td>\n",
       "      <td>6 cylinders</td>\n",
       "      <td>rwd</td>\n",
       "      <td>truck</td>\n",
       "      <td>black</td>\n",
       "      <td>al</td>\n",
       "      <td>https://images.craigslist.org/00404_l4loxHvdQe...</td>\n",
       "      <td>32.5920</td>\n",
       "      <td>-85.5189</td>\n",
       "      <td>2021-05-03T14:02:03-0500</td>\n",
       "      <td>May-03</td>\n",
       "    </tr>\n",
       "    <tr>\n",
       "      <th>3</th>\n",
       "      <td>auburn</td>\n",
       "      <td>27990</td>\n",
       "      <td>2012.0</td>\n",
       "      <td>gmc</td>\n",
       "      <td>sierra 2500 hd extended cab</td>\n",
       "      <td>gas</td>\n",
       "      <td>68696.0</td>\n",
       "      <td>clean</td>\n",
       "      <td>other</td>\n",
       "      <td>good</td>\n",
       "      <td>8 cylinders</td>\n",
       "      <td>4wd</td>\n",
       "      <td>pickup</td>\n",
       "      <td>black</td>\n",
       "      <td>al</td>\n",
       "      <td>https://images.craigslist.org/00V0V_ftJbKrOgdi...</td>\n",
       "      <td>32.5900</td>\n",
       "      <td>-85.4800</td>\n",
       "      <td>2021-05-03T13:41:25-0500</td>\n",
       "      <td>May-03</td>\n",
       "    </tr>\n",
       "    <tr>\n",
       "      <th>4</th>\n",
       "      <td>auburn</td>\n",
       "      <td>4500</td>\n",
       "      <td>1992.0</td>\n",
       "      <td>jeep</td>\n",
       "      <td>cherokee</td>\n",
       "      <td>gas</td>\n",
       "      <td>192000.0</td>\n",
       "      <td>clean</td>\n",
       "      <td>automatic</td>\n",
       "      <td>excellent</td>\n",
       "      <td>6 cylinders</td>\n",
       "      <td>4wd</td>\n",
       "      <td>NaN</td>\n",
       "      <td>NaN</td>\n",
       "      <td>al</td>\n",
       "      <td>https://images.craigslist.org/01010_7EM2aot64G...</td>\n",
       "      <td>32.6454</td>\n",
       "      <td>-85.3783</td>\n",
       "      <td>2021-05-03T07:38:05-0500</td>\n",
       "      <td>May-03</td>\n",
       "    </tr>\n",
       "  </tbody>\n",
       "</table>\n",
       "</div>"
      ],
      "text/plain": [
       "   region  price    year manufacturer                        model fuel  \\\n",
       "0  auburn  33590  2014.0          gmc     sierra 1500 crew cab slt  gas   \n",
       "1  auburn  22590  2010.0    chevrolet               silverado 1500  gas   \n",
       "2  auburn  15000  2013.0         ford                    f-150 xlt  gas   \n",
       "3  auburn  27990  2012.0          gmc  sierra 2500 hd extended cab  gas   \n",
       "4  auburn   4500  1992.0         jeep                     cherokee  gas   \n",
       "\n",
       "   odometer title_status transmission  condition    cylinders drive    type  \\\n",
       "0   57923.0        clean        other       good  8 cylinders   NaN  pickup   \n",
       "1   71229.0        clean        other       good  8 cylinders   NaN  pickup   \n",
       "2  128000.0        clean    automatic  excellent  6 cylinders   rwd   truck   \n",
       "3   68696.0        clean        other       good  8 cylinders   4wd  pickup   \n",
       "4  192000.0        clean    automatic  excellent  6 cylinders   4wd     NaN   \n",
       "\n",
       "  paint_color state                                          image_url  \\\n",
       "0       white    al  https://images.craigslist.org/00R0R_lwWjXSEWNa...   \n",
       "1        blue    al  https://images.craigslist.org/00R0R_lwWjXSEWNa...   \n",
       "2       black    al  https://images.craigslist.org/00404_l4loxHvdQe...   \n",
       "3       black    al  https://images.craigslist.org/00V0V_ftJbKrOgdi...   \n",
       "4         NaN    al  https://images.craigslist.org/01010_7EM2aot64G...   \n",
       "\n",
       "       lat     long              posting_date  postmd  \n",
       "0  32.5900 -85.4800  2021-05-04T12:31:18-0500  May-04  \n",
       "1  32.5900 -85.4800  2021-05-04T12:31:08-0500  May-04  \n",
       "2  32.5920 -85.5189  2021-05-03T14:02:03-0500  May-03  \n",
       "3  32.5900 -85.4800  2021-05-03T13:41:25-0500  May-03  \n",
       "4  32.6454 -85.3783  2021-05-03T07:38:05-0500  May-03  "
      ]
     },
     "execution_count": 29,
     "metadata": {},
     "output_type": "execute_result"
    }
   ],
   "source": [
    "#save new dataset and load\n",
    "df3.to_csv('vehicles2_cleaned.csv',index=False)\n",
    "import pandas as pd\n",
    "data = pd.read_csv('vehicles2_cleaned.csv')\n",
    "data.head()"
   ]
  },
  {
   "cell_type": "markdown",
   "id": "1c6d1b8b",
   "metadata": {},
   "source": [
    "Check null values"
   ]
  },
  {
   "cell_type": "code",
   "execution_count": 30,
   "id": "c87c0382",
   "metadata": {},
   "outputs": [
    {
     "data": {
      "text/plain": [
       "region              0\n",
       "price               0\n",
       "year                0\n",
       "manufacturer     5542\n",
       "model               0\n",
       "fuel                0\n",
       "odometer            0\n",
       "title_status     1494\n",
       "transmission        0\n",
       "condition       47036\n",
       "cylinders       34423\n",
       "drive           19828\n",
       "type            16106\n",
       "paint_color     23973\n",
       "state               0\n",
       "image_url           0\n",
       "lat               435\n",
       "long              435\n",
       "posting_date        0\n",
       "postmd              0\n",
       "dtype: int64"
      ]
     },
     "execution_count": 30,
     "metadata": {},
     "output_type": "execute_result"
    }
   ],
   "source": [
    "data.isna().sum()"
   ]
  },
  {
   "cell_type": "markdown",
   "id": "4fe0a39a",
   "metadata": {},
   "source": [
    "# EDA"
   ]
  },
  {
   "cell_type": "markdown",
   "id": "f653b828",
   "metadata": {},
   "source": [
    "Posting date column"
   ]
  },
  {
   "cell_type": "code",
   "execution_count": 31,
   "id": "0d8d5f81",
   "metadata": {},
   "outputs": [
    {
     "data": {
      "image/png": "[encoded data removed]",
      "text/plain": [
       "<Figure size 864x432 with 1 Axes>"
      ]
     },
     "metadata": {},
     "output_type": "display_data"
    }
   ],
   "source": [
    "# Check number of listings for each day of data entry\n",
    "fig,ax=plt.subplots(figsize=(12,6))\n",
    "sns.set()\n",
    "data.postmd.value_counts().sort_index().plot(kind='bar')\n",
    "plt.ylabel('Number of postings')\n",
    "plt.title('Number of postings by date')\n",
    "plt.grid(None)"
   ]
  },
  {
   "cell_type": "markdown",
   "id": "30870125",
   "metadata": {},
   "source": [
    "It looks like the number of postings increased by about 15,000 in a month (4th April to 4th May)"
   ]
  },
  {
   "cell_type": "markdown",
   "id": "1974e4a6",
   "metadata": {},
   "source": [
    "State column"
   ]
  },
  {
   "cell_type": "code",
   "execution_count": 32,
   "id": "b4dae024",
   "metadata": {},
   "outputs": [
    {
     "data": {
      "image/png": "[encoded data removed]",
      "text/plain": [
       "<Figure size 1152x432 with 1 Axes>"
      ]
     },
     "metadata": {},
     "output_type": "display_data"
    }
   ],
   "source": [
    "# Check number of postings per state\n",
    "fig,ax=plt.subplots(figsize=(16,6))\n",
    "data.state.str.upper().value_counts().sort_values(ascending=False).plot(kind='bar')\n",
    "plt.ylabel('Number of postings')\n",
    "plt.title('Number of postings by state')\n",
    "y=[5000,5000]\n",
    "x=[-1,100]\n",
    "_=plt.plot(x,y,color='k',label='5,000 postings cut-off',linewidth=3)\n",
    "_=plt.legend()\n",
    "plt.grid(None)"
   ]
  },
  {
   "cell_type": "code",
   "execution_count": 33,
   "id": "051bb9f0",
   "metadata": {},
   "outputs": [
    {
     "data": {
      "text/plain": [
       "(106753, 20)"
      ]
     },
     "execution_count": 33,
     "metadata": {},
     "output_type": "execute_result"
    }
   ],
   "source": [
    "# Filter out the states with <5000 used car postings\n",
    "datav2 = data.loc[~(data.state.isin(['tn', 'nj', 'ia', 'id', 'va', 'il', 'az', 'ma', 'mn', 'ks', 'mt', 'ga',\n",
    "       'in', 'ct', 'ok', 'ky', 'al', 'sc', 'md', 'nm', 'ak', 'mo', 'nh', 'nv',\n",
    "       'vt', 'me', 'dc', 'ri', 'ar', 'la', 'hi', 'sd', 'ut', 'ne', 'ms', 'de',\n",
    "       'wv', 'nd', 'wy']))]\n",
    "datav2.shape"
   ]
  },
  {
   "cell_type": "markdown",
   "id": "79846230",
   "metadata": {},
   "source": [
    "Manufacturers column"
   ]
  },
  {
   "cell_type": "code",
   "execution_count": 34,
   "id": "0115a3dd",
   "metadata": {},
   "outputs": [
    {
     "data": {
      "image/png": "[encoded data removed]",
      "text/plain": [
       "<Figure size 1152x432 with 1 Axes>"
      ]
     },
     "metadata": {},
     "output_type": "display_data"
    }
   ],
   "source": [
    "#check the distribution of manufacturers \n",
    "fig,ax=plt.subplots(figsize=(16,6))\n",
    "sns.set_context('paper',font_scale=2)\n",
    "datav2.manufacturer.value_counts().sort_values(ascending=False).plot(kind='bar')\n",
    "plt.ylabel('Count of manufacturers')\n",
    "plt.title('Distribution of manufacturers')\n",
    "plt.grid(False)"
   ]
  },
  {
   "cell_type": "markdown",
   "id": "bdf71b72",
   "metadata": {},
   "source": [
    "The top 3 most popularl listed used car manufacturers are ford, chevrolet, and toyota while the least 3 are land rover, aston martin, and datsun."
   ]
  },
  {
   "cell_type": "markdown",
   "id": "71d0df53",
   "metadata": {},
   "source": [
    "Condition column"
   ]
  },
  {
   "cell_type": "code",
   "execution_count": 36,
   "id": "7a903ddc",
   "metadata": {},
   "outputs": [
    {
     "data": {
      "image/png": "[encoded data removed]",
      "text/plain": [
       "<Figure size 720x360 with 1 Axes>"
      ]
     },
     "metadata": {},
     "output_type": "display_data"
    }
   ],
   "source": [
    "#check the condition of the listed used cars \n",
    "fig,ax=plt.subplots(figsize=(10,5))\n",
    "datav2.condition.value_counts().sort_values(ascending=False).plot(kind='bar')\n",
    "plt.ylabel('Count')\n",
    "plt.title('Distribution of condition of listed cars')\n",
    "plt.grid(None)"
   ]
  },
  {
   "cell_type": "markdown",
   "id": "48248745",
   "metadata": {},
   "source": [
    "Most of the listed cars are in either good or excellent condition. This increases the marketability of the listed cars to buyers."
   ]
  },
  {
   "cell_type": "markdown",
   "id": "febab0cb",
   "metadata": {},
   "source": [
    "Cylinder column"
   ]
  },
  {
   "cell_type": "code",
   "execution_count": 37,
   "id": "34fed0e8",
   "metadata": {},
   "outputs": [
    {
     "data": {
      "image/png": "[encoded data removed]",
      "text/plain": [
       "<Figure size 720x432 with 1 Axes>"
      ]
     },
     "metadata": {},
     "output_type": "display_data"
    }
   ],
   "source": [
    "#check the number of cylinders of the listed used cars \n",
    "fig,ax=plt.subplots(figsize=(10,6))\n",
    "datav2.cylinders.value_counts().sort_values(ascending=False).plot(kind='bar')\n",
    "plt.ylabel('Count')\n",
    "plt.title('Number of cylinders of cars')\n",
    "plt.grid(None)"
   ]
  },
  {
   "cell_type": "markdown",
   "id": "b884d870",
   "metadata": {},
   "source": [
    "Cars with 4, 6, and 8 cylinders are the most popular listed posting on craigslist. This is expected because most cars are equipped with cylinders in that range."
   ]
  },
  {
   "cell_type": "markdown",
   "id": "bf9fdabb",
   "metadata": {},
   "source": [
    "Fuel column"
   ]
  },
  {
   "cell_type": "code",
   "execution_count": 39,
   "id": "94e75236",
   "metadata": {},
   "outputs": [
    {
     "data": {
      "image/png": "[encoded data removed]",
      "text/plain": [
       "<Figure size 720x432 with 1 Axes>"
      ]
     },
     "metadata": {},
     "output_type": "display_data"
    }
   ],
   "source": [
    "#check the fuel type used for listed used cars \n",
    "fig,ax=plt.subplots(figsize=(10,6))\n",
    "datav2.fuel.value_counts().sort_values(ascending=False).plot(kind='bar')\n",
    "plt.ylabel('Count')\n",
    "plt.title('Type of fuel')\n",
    "plt.grid(None)"
   ]
  },
  {
   "cell_type": "markdown",
   "id": "6e5f6f1f",
   "metadata": {},
   "source": [
    "As expected, gas (petrol) is the most common type of fuel for the listed cars."
   ]
  },
  {
   "cell_type": "markdown",
   "id": "9b774805",
   "metadata": {},
   "source": [
    "Odometer column"
   ]
  },
  {
   "cell_type": "code",
   "execution_count": 40,
   "id": "e177894d",
   "metadata": {},
   "outputs": [
    {
     "data": {
      "image/png": "[encoded data removed]",
      "text/plain": [
       "<Figure size 720x432 with 1 Axes>"
      ]
     },
     "metadata": {},
     "output_type": "display_data"
    }
   ],
   "source": [
    "#check the odometer range for the listed cars \n",
    "fig,ax=plt.subplots(figsize=(10,6))\n",
    "datav2.odometer.hist(bins=50)\n",
    "plt.ylabel('Count')\n",
    "plt.xticks(rotation=90)\n",
    "#ax.xaxis.set_major_locator(ticker.MultipleLocator(10000))\n",
    "plt.gca().xaxis.set_major_locator(plt.MultipleLocator(50000))\n",
    "\n",
    "plt.title('Odometer reading distribution')\n",
    "plt.grid(None)"
   ]
  },
  {
   "cell_type": "markdown",
   "id": "3a4b447e",
   "metadata": {},
   "source": [
    "The bulk of the used cars odometer reading is clustered around 45,000 - 175,000 km"
   ]
  },
  {
   "cell_type": "markdown",
   "id": "cde1d907",
   "metadata": {},
   "source": [
    "Title_status column"
   ]
  },
  {
   "cell_type": "code",
   "execution_count": 41,
   "id": "c9b94e1d",
   "metadata": {},
   "outputs": [
    {
     "data": {
      "image/png": "[encoded data removed]",
      "text/plain": [
       "<Figure size 432x288 with 1 Axes>"
      ]
     },
     "metadata": {},
     "output_type": "display_data"
    }
   ],
   "source": [
    "#check the title stutus column\n",
    "sns.countplot(x='title_status',data=datav2)\n",
    "plt.title('Title status')\n",
    "plt.xticks(rotation=90)\n",
    "plt.grid([])"
   ]
  },
  {
   "cell_type": "markdown",
   "id": "0aec4eb0",
   "metadata": {},
   "source": [
    "Clean is the most occuring title status for the used car listings"
   ]
  },
  {
   "cell_type": "markdown",
   "id": "b9a821f5",
   "metadata": {},
   "source": [
    "Transmission column"
   ]
  },
  {
   "cell_type": "code",
   "execution_count": 42,
   "id": "a66d6eee",
   "metadata": {},
   "outputs": [
    {
     "data": {
      "image/png": "[encoded data removed]",
      "text/plain": [
       "<Figure size 432x288 with 1 Axes>"
      ]
     },
     "metadata": {},
     "output_type": "display_data"
    }
   ],
   "source": [
    "#check the transmission column\n",
    "sns.countplot(x='transmission',data=datav2)\n",
    "plt.title('Transmission')\n",
    "plt.grid([])"
   ]
  },
  {
   "cell_type": "markdown",
   "id": "f6652b36",
   "metadata": {},
   "source": [
    "The most common car transmission type is automatic as expected."
   ]
  },
  {
   "cell_type": "markdown",
   "id": "12c63793",
   "metadata": {},
   "source": [
    "Drive column"
   ]
  },
  {
   "cell_type": "code",
   "execution_count": 44,
   "id": "a8b87678",
   "metadata": {},
   "outputs": [
    {
     "data": {
      "image/png": "[encoded data removed]",
      "text/plain": [
       "<Figure size 432x288 with 1 Axes>"
      ]
     },
     "metadata": {},
     "output_type": "display_data"
    }
   ],
   "source": [
    "#check the drive column\n",
    "sns.countplot(x='drive',data=datav2)\n",
    "plt.title('Type of drive mechanics')\n",
    "plt.tick_params(labelsize=12)\n",
    "plt.grid([])"
   ]
  },
  {
   "cell_type": "markdown",
   "id": "1579b32f",
   "metadata": {},
   "source": [
    "There are more fwd and 4wd vehicles than rwd. Front-wheel drives are standarad for many cars, crossovers, and SUVs while 4wd's, designed for severe off-road conditions, are common in most trucks and large SUVs. Rear-wheel drives are are also common in trucks and SUVs."
   ]
  },
  {
   "cell_type": "markdown",
   "id": "2d781910",
   "metadata": {},
   "source": [
    "Car type column"
   ]
  },
  {
   "cell_type": "code",
   "execution_count": 45,
   "id": "ae1e5ef7",
   "metadata": {},
   "outputs": [
    {
     "data": {
      "image/png": "[encoded data removed]",
      "text/plain": [
       "<Figure size 720x432 with 1 Axes>"
      ]
     },
     "metadata": {},
     "output_type": "display_data"
    }
   ],
   "source": [
    "#check the car type distribution\n",
    "plt.figure(figsize=(10,6))\n",
    "datav2.type.value_counts().sort_values(ascending=False).plot(kind='bar')\n",
    "plt.title('Car type distribution')\n",
    "plt.tick_params(labelsize=12)\n",
    "plt.grid([])"
   ]
  },
  {
   "cell_type": "markdown",
   "id": "729ffa02",
   "metadata": {},
   "source": [
    "Sedans, SUVs are the two most popular car listings followed by pickups and trucks."
   ]
  },
  {
   "cell_type": "markdown",
   "id": "24995df5",
   "metadata": {},
   "source": [
    "Car color column"
   ]
  },
  {
   "cell_type": "code",
   "execution_count": 46,
   "id": "5f47425b",
   "metadata": {},
   "outputs": [
    {
     "data": {
      "image/png": "[encoded data removed]",
      "text/plain": [
       "<Figure size 720x432 with 1 Axes>"
      ]
     },
     "metadata": {},
     "output_type": "display_data"
    }
   ],
   "source": [
    "#check the car color distribution\n",
    "plt.figure(figsize=(10,6))\n",
    "datav2.paint_color.value_counts().sort_values(ascending=False).plot(kind='bar')\n",
    "plt.title('Car colors distribution')\n",
    "plt.tick_params(labelsize=12)\n",
    "plt.grid([])"
   ]
  },
  {
   "cell_type": "markdown",
   "id": "271a5b1d",
   "metadata": {},
   "source": [
    "White and black are the two most popular colors of cars being listed, followed closely by silver.\n",
    "Blue, red, and grey are the 3 next popular car colors."
   ]
  },
  {
   "cell_type": "code",
   "execution_count": 47,
   "id": "b5cffc9a",
   "metadata": {},
   "outputs": [],
   "source": [
    "#save data to new file\n",
    "datav2.to_csv('vehicles2_EDA.csv', index=False)\n",
    "data = pd.read_csv('vehicles2_EDA.csv')"
   ]
  },
  {
   "cell_type": "markdown",
   "id": "9c1c3dbf",
   "metadata": {},
   "source": [
    "# Feature Engineering"
   ]
  },
  {
   "cell_type": "code",
   "execution_count": 48,
   "id": "b666b656",
   "metadata": {},
   "outputs": [],
   "source": [
    "#convert the year column from 'float64' to year type as 'int64'\n",
    "data['year']=pd.to_datetime(data['year'],errors='ignore',format='%y')"
   ]
  },
  {
   "cell_type": "code",
   "execution_count": 49,
   "id": "08213e38",
   "metadata": {},
   "outputs": [
    {
     "data": {
      "image/png": "[encoded data removed]",
      "text/plain": [
       "<Figure size 1152x432 with 1 Axes>"
      ]
     },
     "metadata": {},
     "output_type": "display_data"
    }
   ],
   "source": [
    "#check the car year distribution\n",
    "plt.figure(figsize=(16,6))\n",
    "sns.countplot(x='year',data=data,palette='Blues',dodge=False)\n",
    "plt.title('Car year distribution')\n",
    "plt.tick_params(labelsize=12)\n",
    "plt.xticks(fontsize=9,rotation=90)\n",
    "plt.tick_params(axis='y', labelleft=False, labelright=True)\n",
    "plt.show()\n"
   ]
  },
  {
   "cell_type": "markdown",
   "id": "113d9130",
   "metadata": {},
   "source": [
    "The majority of the used cars model year come from between 2011 - 2020. It seems sellers tend to sell their cars within 10 years of ownership."
   ]
  },
  {
   "cell_type": "markdown",
   "id": "14112ed0",
   "metadata": {},
   "source": [
    "Distinguish older cars from newer ones. Create two new columns: age of cars by year, and average mileage of car per year"
   ]
  },
  {
   "cell_type": "code",
   "execution_count": 50,
   "id": "0f365770",
   "metadata": {},
   "outputs": [
    {
     "data": {
      "image/png": "[encoded data removed]",
      "text/plain": [
       "<Figure size 1152x432 with 1 Axes>"
      ]
     },
     "metadata": {},
     "output_type": "display_data"
    }
   ],
   "source": [
    "#create Age column\n",
    "data['Age'] = 2022 - (data['year']-1)\n",
    "#plot Age distribution\n",
    "plt.figure(figsize=(16,6))\n",
    "sns.set()\n",
    "sns.countplot(x='Age',data=data,palette='Blues_r')\n",
    "plt.xticks(fontsize=9,rotation=90)\n",
    "plt.show()"
   ]
  },
  {
   "cell_type": "code",
   "execution_count": 51,
   "id": "f621d4f0",
   "metadata": {},
   "outputs": [],
   "source": [
    "#take out the 0-1 year old cars\n",
    "data = data.loc[~(data.Age < 2)]"
   ]
  },
  {
   "cell_type": "code",
   "execution_count": 52,
   "id": "33d8b3b7",
   "metadata": {},
   "outputs": [
    {
     "data": {
      "text/plain": [
       "0              10350.0\n",
       "1             10126.85\n",
       "2             7536.375\n",
       "3              11000.0\n",
       "4          1196.078431\n",
       "              ...     \n",
       "106748          8243.0\n",
       "106749     8183.333333\n",
       "106750     2742.424242\n",
       "106751    11589.428571\n",
       "106752        10562.25\n",
       "Name: avg_mil, Length: 106751, dtype: object"
      ]
     },
     "execution_count": 52,
     "metadata": {},
     "output_type": "execute_result"
    }
   ],
   "source": [
    "#create average mileage per year column\n",
    "data['avg_mil'] = data['odometer'] / data['Age']\n",
    "data['avg_mil']"
   ]
  },
  {
   "cell_type": "markdown",
   "id": "d103319f",
   "metadata": {},
   "source": [
    "Create a column to classify whether each car's average mileage per year is below or above the average of 13,500 miles (21,500 km) in the US"
   ]
  },
  {
   "cell_type": "code",
   "execution_count": 53,
   "id": "950e132d",
   "metadata": {},
   "outputs": [],
   "source": [
    "#create milage rating column\n",
    "data['mil_rating'] = \"below average\"\n",
    "data.loc[data['avg_mil'] > 21500, 'mil_rating'] = \"above average\""
   ]
  },
  {
   "cell_type": "code",
   "execution_count": 54,
   "id": "c5810666",
   "metadata": {},
   "outputs": [
    {
     "data": {
      "image/png": "[encoded data removed]",
      "text/plain": [
       "<Figure size 432x288 with 1 Axes>"
      ]
     },
     "metadata": {},
     "output_type": "display_data"
    }
   ],
   "source": [
    "#plot the chart of mileage rating\n",
    "ax = sns.countplot(x='mil_rating',data=data)\n",
    "for p in ax.patches:\n",
    "   ax.annotate('{:.0f}'.format(p.get_height()), (p.get_x()+0.3, p.get_height()+0.01))\n",
    "plt.grid()\n",
    "plt.show()"
   ]
  },
  {
   "cell_type": "markdown",
   "id": "79aa8e90",
   "metadata": {},
   "source": [
    "Most of the cars have a yearly mileage below the average of 21,500 km per year"
   ]
  },
  {
   "cell_type": "code",
   "execution_count": 55,
   "id": "286e49b0",
   "metadata": {},
   "outputs": [],
   "source": [
    "#save data to new file\n",
    "data.to_csv('vehicles2_cleaned_v2.csv',index=False)\n",
    "data = pd.read_csv('vehicles2_cleaned_v2.csv')"
   ]
  },
  {
   "cell_type": "code",
   "execution_count": 56,
   "id": "58e15e17",
   "metadata": {},
   "outputs": [],
   "source": [
    "#more data cleaning"
   ]
  },
  {
   "cell_type": "code",
   "execution_count": 57,
   "id": "110794dc",
   "metadata": {},
   "outputs": [
    {
     "data": {
      "text/plain": [
       "region              0\n",
       "price               0\n",
       "year                0\n",
       "manufacturer     2911\n",
       "model               0\n",
       "fuel                0\n",
       "odometer            0\n",
       "title_status     1021\n",
       "transmission        0\n",
       "condition       25824\n",
       "cylinders       19551\n",
       "drive           11721\n",
       "type             9022\n",
       "paint_color     15199\n",
       "state               0\n",
       "image_url           0\n",
       "lat               149\n",
       "long              149\n",
       "posting_date        0\n",
       "postmd              0\n",
       "Age                 0\n",
       "avg_mil             0\n",
       "mil_rating          0\n",
       "dtype: int64"
      ]
     },
     "execution_count": 57,
     "metadata": {},
     "output_type": "execute_result"
    }
   ],
   "source": [
    "#check for null values\n",
    "data.isna().sum()"
   ]
  },
  {
   "cell_type": "code",
   "execution_count": 58,
   "id": "02ca45bf",
   "metadata": {},
   "outputs": [],
   "source": [
    "#drop missing values in manufacturer column\n",
    "data.dropna(subset=['manufacturer'],axis=0,inplace=True)"
   ]
  },
  {
   "cell_type": "code",
   "execution_count": 59,
   "id": "ead8fbf1",
   "metadata": {},
   "outputs": [
    {
     "data": {
      "text/plain": [
       "array(['harley-davidson', 'chevrolet', 'mini', 'pontiac', 'volkswagen',\n",
       "       'lexus', 'nissan', 'toyota', 'ram', 'acura', 'ford', 'kia',\n",
       "       'honda', 'fiat', 'mercedes-benz', 'gmc', 'infiniti', 'bmw',\n",
       "       'hyundai', 'tesla', 'jeep', 'subaru', 'mitsubishi', 'dodge',\n",
       "       'audi', 'cadillac', 'chrysler', 'datsun', 'volvo', 'mazda',\n",
       "       'porsche', 'lincoln', 'buick', 'rover', 'jaguar', 'mercury',\n",
       "       'alfa-romeo', 'saturn', 'land rover', 'ferrari'], dtype=object)"
      ]
     },
     "execution_count": 59,
     "metadata": {},
     "output_type": "execute_result"
    }
   ],
   "source": [
    "#print unique manufacturer entries\n",
    "data.manufacturer.unique()"
   ]
  },
  {
   "cell_type": "code",
   "execution_count": 60,
   "id": "4057a051",
   "metadata": {},
   "outputs": [
    {
     "data": {
      "text/html": [
       "<div>\n",
       "<style scoped>\n",
       "    .dataframe tbody tr th:only-of-type {\n",
       "        vertical-align: middle;\n",
       "    }\n",
       "\n",
       "    .dataframe tbody tr th {\n",
       "        vertical-align: top;\n",
       "    }\n",
       "\n",
       "    .dataframe thead th {\n",
       "        text-align: right;\n",
       "    }\n",
       "</style>\n",
       "<table border=\"1\" class=\"dataframe\">\n",
       "  <thead>\n",
       "    <tr style=\"text-align: right;\">\n",
       "      <th></th>\n",
       "      <th>region</th>\n",
       "      <th>price</th>\n",
       "      <th>year</th>\n",
       "      <th>manufacturer</th>\n",
       "      <th>model</th>\n",
       "      <th>fuel</th>\n",
       "      <th>odometer</th>\n",
       "      <th>title_status</th>\n",
       "      <th>transmission</th>\n",
       "      <th>condition</th>\n",
       "      <th>...</th>\n",
       "      <th>state</th>\n",
       "      <th>image_url</th>\n",
       "      <th>lat</th>\n",
       "      <th>long</th>\n",
       "      <th>posting_date</th>\n",
       "      <th>postmd</th>\n",
       "      <th>Age</th>\n",
       "      <th>avg_mil</th>\n",
       "      <th>mil_rating</th>\n",
       "      <th>Made</th>\n",
       "    </tr>\n",
       "  </thead>\n",
       "  <tbody>\n",
       "    <tr>\n",
       "      <th>0</th>\n",
       "      <td>bakersfield</td>\n",
       "      <td>11975</td>\n",
       "      <td>2003</td>\n",
       "      <td>harley-davidson</td>\n",
       "      <td>davidson</td>\n",
       "      <td>gas</td>\n",
       "      <td>207000.0</td>\n",
       "      <td>clean</td>\n",
       "      <td>automatic</td>\n",
       "      <td>excellent</td>\n",
       "      <td>...</td>\n",
       "      <td>ca</td>\n",
       "      <td>https://images.craigslist.org/00F0F_eEBhgvA15M...</td>\n",
       "      <td>34.070612</td>\n",
       "      <td>-117.383384</td>\n",
       "      <td>2021-05-04T12:26:43-0700</td>\n",
       "      <td>May-04</td>\n",
       "      <td>20</td>\n",
       "      <td>10350.000000</td>\n",
       "      <td>below average</td>\n",
       "      <td>American</td>\n",
       "    </tr>\n",
       "    <tr>\n",
       "      <th>1</th>\n",
       "      <td>bakersfield</td>\n",
       "      <td>21950</td>\n",
       "      <td>2003</td>\n",
       "      <td>chevrolet</td>\n",
       "      <td>silverado 3500</td>\n",
       "      <td>diesel</td>\n",
       "      <td>202537.0</td>\n",
       "      <td>clean</td>\n",
       "      <td>automatic</td>\n",
       "      <td>excellent</td>\n",
       "      <td>...</td>\n",
       "      <td>ca</td>\n",
       "      <td>https://images.craigslist.org/00m0m_9owDGrPLWK...</td>\n",
       "      <td>33.794656</td>\n",
       "      <td>-117.992994</td>\n",
       "      <td>2021-05-04T12:04:51-0700</td>\n",
       "      <td>May-04</td>\n",
       "      <td>20</td>\n",
       "      <td>10126.850000</td>\n",
       "      <td>below average</td>\n",
       "      <td>American</td>\n",
       "    </tr>\n",
       "    <tr>\n",
       "      <th>2</th>\n",
       "      <td>bakersfield</td>\n",
       "      <td>15590</td>\n",
       "      <td>2015</td>\n",
       "      <td>mini</td>\n",
       "      <td>hardtop 2 door cooper s</td>\n",
       "      <td>other</td>\n",
       "      <td>60291.0</td>\n",
       "      <td>clean</td>\n",
       "      <td>other</td>\n",
       "      <td>good</td>\n",
       "      <td>...</td>\n",
       "      <td>ca</td>\n",
       "      <td>https://images.craigslist.org/00f0f_dGlIKGTKrJ...</td>\n",
       "      <td>35.380000</td>\n",
       "      <td>-119.020000</td>\n",
       "      <td>2021-05-04T11:41:15-0700</td>\n",
       "      <td>May-04</td>\n",
       "      <td>8</td>\n",
       "      <td>7536.375000</td>\n",
       "      <td>below average</td>\n",
       "      <td>English</td>\n",
       "    </tr>\n",
       "    <tr>\n",
       "      <th>3</th>\n",
       "      <td>bakersfield</td>\n",
       "      <td>3975</td>\n",
       "      <td>2006</td>\n",
       "      <td>pontiac</td>\n",
       "      <td>g6</td>\n",
       "      <td>gas</td>\n",
       "      <td>187000.0</td>\n",
       "      <td>clean</td>\n",
       "      <td>automatic</td>\n",
       "      <td>excellent</td>\n",
       "      <td>...</td>\n",
       "      <td>ca</td>\n",
       "      <td>https://images.craigslist.org/00V0V_5uw5gVZjSk...</td>\n",
       "      <td>34.070612</td>\n",
       "      <td>-117.383384</td>\n",
       "      <td>2021-05-04T11:35:04-0700</td>\n",
       "      <td>May-04</td>\n",
       "      <td>17</td>\n",
       "      <td>11000.000000</td>\n",
       "      <td>below average</td>\n",
       "      <td>American</td>\n",
       "    </tr>\n",
       "    <tr>\n",
       "      <th>4</th>\n",
       "      <td>bakersfield</td>\n",
       "      <td>8000</td>\n",
       "      <td>1972</td>\n",
       "      <td>chevrolet</td>\n",
       "      <td>chevelle</td>\n",
       "      <td>gas</td>\n",
       "      <td>61000.0</td>\n",
       "      <td>clean</td>\n",
       "      <td>automatic</td>\n",
       "      <td>fair</td>\n",
       "      <td>...</td>\n",
       "      <td>ca</td>\n",
       "      <td>https://images.craigslist.org/00U0U_gvATaIvxTn...</td>\n",
       "      <td>35.248476</td>\n",
       "      <td>-118.936316</td>\n",
       "      <td>2021-05-04T11:30:14-0700</td>\n",
       "      <td>May-04</td>\n",
       "      <td>51</td>\n",
       "      <td>1196.078431</td>\n",
       "      <td>below average</td>\n",
       "      <td>American</td>\n",
       "    </tr>\n",
       "  </tbody>\n",
       "</table>\n",
       "<p>5 rows × 24 columns</p>\n",
       "</div>"
      ],
      "text/plain": [
       "        region  price  year     manufacturer                    model    fuel  \\\n",
       "0  bakersfield  11975  2003  harley-davidson                 davidson     gas   \n",
       "1  bakersfield  21950  2003        chevrolet           silverado 3500  diesel   \n",
       "2  bakersfield  15590  2015             mini  hardtop 2 door cooper s   other   \n",
       "3  bakersfield   3975  2006          pontiac                       g6     gas   \n",
       "4  bakersfield   8000  1972        chevrolet                 chevelle     gas   \n",
       "\n",
       "   odometer title_status transmission  condition  ... state  \\\n",
       "0  207000.0        clean    automatic  excellent  ...    ca   \n",
       "1  202537.0        clean    automatic  excellent  ...    ca   \n",
       "2   60291.0        clean        other       good  ...    ca   \n",
       "3  187000.0        clean    automatic  excellent  ...    ca   \n",
       "4   61000.0        clean    automatic       fair  ...    ca   \n",
       "\n",
       "                                           image_url        lat        long  \\\n",
       "0  https://images.craigslist.org/00F0F_eEBhgvA15M...  34.070612 -117.383384   \n",
       "1  https://images.craigslist.org/00m0m_9owDGrPLWK...  33.794656 -117.992994   \n",
       "2  https://images.craigslist.org/00f0f_dGlIKGTKrJ...  35.380000 -119.020000   \n",
       "3  https://images.craigslist.org/00V0V_5uw5gVZjSk...  34.070612 -117.383384   \n",
       "4  https://images.craigslist.org/00U0U_gvATaIvxTn...  35.248476 -118.936316   \n",
       "\n",
       "               posting_date  postmd  Age       avg_mil     mil_rating  \\\n",
       "0  2021-05-04T12:26:43-0700  May-04   20  10350.000000  below average   \n",
       "1  2021-05-04T12:04:51-0700  May-04   20  10126.850000  below average   \n",
       "2  2021-05-04T11:41:15-0700  May-04    8   7536.375000  below average   \n",
       "3  2021-05-04T11:35:04-0700  May-04   17  11000.000000  below average   \n",
       "4  2021-05-04T11:30:14-0700  May-04   51   1196.078431  below average   \n",
       "\n",
       "       Made  \n",
       "0  American  \n",
       "1  American  \n",
       "2   English  \n",
       "3  American  \n",
       "4  American  \n",
       "\n",
       "[5 rows x 24 columns]"
      ]
     },
     "execution_count": 60,
     "metadata": {},
     "output_type": "execute_result"
    }
   ],
   "source": [
    "#create manufacturer countries, 'Made', column\n",
    "data_copy = data.copy()\n",
    "def country(row):\n",
    "  if row['manufacturer'] in ['harley-davidson', 'chevrolet', 'pontiac', 'ram', 'ford', 'gmc', 'tesla', 'jeep', 'dodge',\n",
    "                             'cadillac', 'chrysler', 'lincoln', 'buick', 'saturn', 'mercury']:\n",
    "    val = 'American'\n",
    "  elif (row['manufacturer'] in ['lexus', 'nissan', 'toyota', 'acura', 'honda', 'infiniti', 'subaru', 'mitsubishi', \n",
    "                                'datsun', 'mazda']):\n",
    "    val = 'Japanese'\n",
    "  elif (row['manufacturer'] in ['volkswagen', 'mercedes-benz', 'bmw', 'audi', 'porsche']):\n",
    "    val = 'German'\n",
    "  elif (row['manufacturer'] in ['ferrari','fiat','alfa-romeo']):\n",
    "    val = 'Italian'\n",
    "  elif (row['manufacturer'] in ['kia','hyundai']):\n",
    "    val = 'Korean'\n",
    "  elif (row['manufacturer'] in ['volvo']):\n",
    "    val = 'Swedish'\n",
    "  elif (row['manufacturer'] in ['rover','mini','land rover', 'jaguar']):\n",
    "    val = 'English'\n",
    "  return val\n",
    "data_copy['Made'] = data_copy.apply(country, axis=1)\n",
    "data_copy.head()  "
   ]
  },
  {
   "cell_type": "code",
   "execution_count": 61,
   "id": "0ba28525",
   "metadata": {},
   "outputs": [],
   "source": [
    "#drop lat and long columns\n",
    "data_copy.drop(columns=['lat','long'],axis=1, inplace=True)"
   ]
  },
  {
   "cell_type": "markdown",
   "id": "660a4ff1",
   "metadata": {},
   "source": [
    "For the missing values in the remainder of the columns, substitute them with a random variable from its unique items based on their current probability."
   ]
  },
  {
   "cell_type": "code",
   "execution_count": 62,
   "id": "533205c7",
   "metadata": {},
   "outputs": [
    {
     "data": {
      "text/html": [
       "<div>\n",
       "<style scoped>\n",
       "    .dataframe tbody tr th:only-of-type {\n",
       "        vertical-align: middle;\n",
       "    }\n",
       "\n",
       "    .dataframe tbody tr th {\n",
       "        vertical-align: top;\n",
       "    }\n",
       "\n",
       "    .dataframe thead th {\n",
       "        text-align: right;\n",
       "    }\n",
       "</style>\n",
       "<table border=\"1\" class=\"dataframe\">\n",
       "  <thead>\n",
       "    <tr style=\"text-align: right;\">\n",
       "      <th></th>\n",
       "      <th>condition</th>\n",
       "      <th>prob</th>\n",
       "    </tr>\n",
       "  </thead>\n",
       "  <tbody>\n",
       "    <tr>\n",
       "      <th>0</th>\n",
       "      <td>excellent</td>\n",
       "      <td>0.494410</td>\n",
       "    </tr>\n",
       "    <tr>\n",
       "      <th>1</th>\n",
       "      <td>good</td>\n",
       "      <td>0.384997</td>\n",
       "    </tr>\n",
       "    <tr>\n",
       "      <th>2</th>\n",
       "      <td>like new</td>\n",
       "      <td>0.083649</td>\n",
       "    </tr>\n",
       "    <tr>\n",
       "      <th>3</th>\n",
       "      <td>fair</td>\n",
       "      <td>0.032863</td>\n",
       "    </tr>\n",
       "    <tr>\n",
       "      <th>4</th>\n",
       "      <td>salvage</td>\n",
       "      <td>0.002149</td>\n",
       "    </tr>\n",
       "    <tr>\n",
       "      <th>5</th>\n",
       "      <td>new</td>\n",
       "      <td>0.001932</td>\n",
       "    </tr>\n",
       "  </tbody>\n",
       "</table>\n",
       "</div>"
      ],
      "text/plain": [
       "   condition      prob\n",
       "0  excellent  0.494410\n",
       "1       good  0.384997\n",
       "2   like new  0.083649\n",
       "3       fair  0.032863\n",
       "4    salvage  0.002149\n",
       "5        new  0.001932"
      ]
     },
     "execution_count": 62,
     "metadata": {},
     "output_type": "execute_result"
    }
   ],
   "source": [
    "#normalize the condition value counts and save into a dataframe\n",
    "cond_prob = pd.DataFrame(list(data_copy.condition.value_counts(normalize=True).items()),columns = ['condition','prob'])\n",
    "cond_prob"
   ]
  },
  {
   "cell_type": "code",
   "execution_count": 63,
   "id": "0a94031d",
   "metadata": {},
   "outputs": [],
   "source": [
    "#substitute missing values in condition to random states based on their probabilities\n",
    "data_copy.loc[data_copy.condition.isna(), 'condition'] = np.random.choice(cond_prob.condition, \n",
    "                                                size=data_copy.condition.isna().sum(),\n",
    "                                                replace=True, \n",
    "                                                p=cond_prob.prob)"
   ]
  },
  {
   "cell_type": "code",
   "execution_count": 64,
   "id": "83414544",
   "metadata": {},
   "outputs": [],
   "source": [
    "#normalize the cylinders value counts and save into a dataframe\n",
    "cyl_prob = pd.DataFrame(list(data_copy.cylinders.value_counts(normalize=True).items()),columns = ['cylinders','prob'])\n",
    "#substitute missing values in cylinder to random states based on their probabilities\n",
    "data_copy.loc[data_copy.cylinders.isna(), 'cylinders'] = np.random.choice(cyl_prob.cylinders, \n",
    "                                                size=data_copy.cylinders.isna().sum(),\n",
    "                                                replace=True, \n",
    "                                                p=cyl_prob.prob)"
   ]
  },
  {
   "cell_type": "code",
   "execution_count": 65,
   "id": "11db6fbf",
   "metadata": {},
   "outputs": [],
   "source": [
    "#normalize the title status value counts and save into a dataframe\n",
    "ts_prob = pd.DataFrame(list(data_copy.title_status.value_counts(normalize=True).items()),columns = ['ts','prob'])\n",
    "#substitute missing values in title_status to random states based on their probabilities\n",
    "data_copy.loc[data_copy.title_status.isna(), 'title_status'] = np.random.choice(ts_prob.ts, \n",
    "                                                size=data_copy.title_status.isna().sum(),\n",
    "                                                replace=True, \n",
    "                                                p=ts_prob.prob)"
   ]
  },
  {
   "cell_type": "code",
   "execution_count": 66,
   "id": "913adff7",
   "metadata": {},
   "outputs": [],
   "source": [
    "#normalize the drive value counts and save into a dataframe\n",
    "dr_prob = pd.DataFrame(list(data_copy.drive.value_counts(normalize=True).items()),columns = ['drive','prob'])\n",
    "#substitute missing values in title_status to random states based on their probabilities\n",
    "data_copy.loc[data_copy.drive.isna(), 'drive'] = np.random.choice(dr_prob.drive, \n",
    "                                                size=data_copy.drive.isna().sum(),\n",
    "                                                replace=True, \n",
    "                                                p=dr_prob.prob)"
   ]
  },
  {
   "cell_type": "code",
   "execution_count": 67,
   "id": "868bed2d",
   "metadata": {},
   "outputs": [],
   "source": [
    "#normalize the type value counts and save into a dataframe\n",
    "type_prob = pd.DataFrame(list(data_copy.type.value_counts(normalize=True).items()),columns = ['type','prob'])\n",
    "#substitute missing values in title_status to random states based on their probabilities\n",
    "data_copy.loc[data_copy.type.isna(), 'type'] = np.random.choice(type_prob.type, \n",
    "                                                size=data_copy.type.isna().sum(),\n",
    "                                                replace=True, \n",
    "                                                p=type_prob.prob)"
   ]
  },
  {
   "cell_type": "code",
   "execution_count": 68,
   "id": "8665a5a7",
   "metadata": {},
   "outputs": [],
   "source": [
    "#normalize the color value counts and save into a dataframe\n",
    "pc_prob = pd.DataFrame(list(data_copy.paint_color.value_counts(normalize=True).items()),columns = ['color','prob'])\n",
    "#substitute missing values in title_status to random states based on their probabilities\n",
    "data_copy.loc[data_copy.paint_color.isna(), 'paint_color'] = np.random.choice(pc_prob.color, \n",
    "                                                size=data_copy.paint_color.isna().sum(),\n",
    "                                                replace=True, \n",
    "                                                p=pc_prob.prob)"
   ]
  },
  {
   "cell_type": "code",
   "execution_count": 69,
   "id": "a4d563e0",
   "metadata": {},
   "outputs": [
    {
     "data": {
      "text/plain": [
       "region          0\n",
       "price           0\n",
       "year            0\n",
       "manufacturer    0\n",
       "model           0\n",
       "fuel            0\n",
       "odometer        0\n",
       "title_status    0\n",
       "transmission    0\n",
       "condition       0\n",
       "cylinders       0\n",
       "drive           0\n",
       "type            0\n",
       "paint_color     0\n",
       "state           0\n",
       "image_url       0\n",
       "posting_date    0\n",
       "postmd          0\n",
       "Age             0\n",
       "avg_mil         0\n",
       "mil_rating      0\n",
       "Made            0\n",
       "dtype: int64"
      ]
     },
     "execution_count": 69,
     "metadata": {},
     "output_type": "execute_result"
    }
   ],
   "source": [
    "data_copy.isna().sum()"
   ]
  },
  {
   "cell_type": "markdown",
   "id": "9c3294db",
   "metadata": {},
   "source": [
    "Group car type and colors into larger groups"
   ]
  },
  {
   "cell_type": "code",
   "execution_count": 70,
   "id": "cb447298",
   "metadata": {},
   "outputs": [
    {
     "data": {
      "text/html": [
       "<div>\n",
       "<style scoped>\n",
       "    .dataframe tbody tr th:only-of-type {\n",
       "        vertical-align: middle;\n",
       "    }\n",
       "\n",
       "    .dataframe tbody tr th {\n",
       "        vertical-align: top;\n",
       "    }\n",
       "\n",
       "    .dataframe thead th {\n",
       "        text-align: right;\n",
       "    }\n",
       "</style>\n",
       "<table border=\"1\" class=\"dataframe\">\n",
       "  <thead>\n",
       "    <tr style=\"text-align: right;\">\n",
       "      <th></th>\n",
       "      <th>region</th>\n",
       "      <th>price</th>\n",
       "      <th>year</th>\n",
       "      <th>manufacturer</th>\n",
       "      <th>model</th>\n",
       "      <th>fuel</th>\n",
       "      <th>odometer</th>\n",
       "      <th>title_status</th>\n",
       "      <th>transmission</th>\n",
       "      <th>condition</th>\n",
       "      <th>...</th>\n",
       "      <th>paint_color</th>\n",
       "      <th>state</th>\n",
       "      <th>image_url</th>\n",
       "      <th>posting_date</th>\n",
       "      <th>postmd</th>\n",
       "      <th>Age</th>\n",
       "      <th>avg_mil</th>\n",
       "      <th>mil_rating</th>\n",
       "      <th>Made</th>\n",
       "      <th>type_group</th>\n",
       "    </tr>\n",
       "  </thead>\n",
       "  <tbody>\n",
       "    <tr>\n",
       "      <th>0</th>\n",
       "      <td>bakersfield</td>\n",
       "      <td>11975</td>\n",
       "      <td>2003</td>\n",
       "      <td>harley-davidson</td>\n",
       "      <td>davidson</td>\n",
       "      <td>gas</td>\n",
       "      <td>207000.0</td>\n",
       "      <td>clean</td>\n",
       "      <td>automatic</td>\n",
       "      <td>excellent</td>\n",
       "      <td>...</td>\n",
       "      <td>black</td>\n",
       "      <td>ca</td>\n",
       "      <td>https://images.craigslist.org/00F0F_eEBhgvA15M...</td>\n",
       "      <td>2021-05-04T12:26:43-0700</td>\n",
       "      <td>May-04</td>\n",
       "      <td>20</td>\n",
       "      <td>10350.000000</td>\n",
       "      <td>below average</td>\n",
       "      <td>American</td>\n",
       "      <td>non-luxury_small</td>\n",
       "    </tr>\n",
       "    <tr>\n",
       "      <th>1</th>\n",
       "      <td>bakersfield</td>\n",
       "      <td>21950</td>\n",
       "      <td>2003</td>\n",
       "      <td>chevrolet</td>\n",
       "      <td>silverado 3500</td>\n",
       "      <td>diesel</td>\n",
       "      <td>202537.0</td>\n",
       "      <td>clean</td>\n",
       "      <td>automatic</td>\n",
       "      <td>excellent</td>\n",
       "      <td>...</td>\n",
       "      <td>grey</td>\n",
       "      <td>ca</td>\n",
       "      <td>https://images.craigslist.org/00m0m_9owDGrPLWK...</td>\n",
       "      <td>2021-05-04T12:04:51-0700</td>\n",
       "      <td>May-04</td>\n",
       "      <td>20</td>\n",
       "      <td>10126.850000</td>\n",
       "      <td>below average</td>\n",
       "      <td>American</td>\n",
       "      <td>non-luxury_small</td>\n",
       "    </tr>\n",
       "    <tr>\n",
       "      <th>2</th>\n",
       "      <td>bakersfield</td>\n",
       "      <td>15590</td>\n",
       "      <td>2015</td>\n",
       "      <td>mini</td>\n",
       "      <td>hardtop 2 door cooper s</td>\n",
       "      <td>other</td>\n",
       "      <td>60291.0</td>\n",
       "      <td>clean</td>\n",
       "      <td>other</td>\n",
       "      <td>good</td>\n",
       "      <td>...</td>\n",
       "      <td>red</td>\n",
       "      <td>ca</td>\n",
       "      <td>https://images.craigslist.org/00f0f_dGlIKGTKrJ...</td>\n",
       "      <td>2021-05-04T11:41:15-0700</td>\n",
       "      <td>May-04</td>\n",
       "      <td>8</td>\n",
       "      <td>7536.375000</td>\n",
       "      <td>below average</td>\n",
       "      <td>English</td>\n",
       "      <td>luxury_small</td>\n",
       "    </tr>\n",
       "    <tr>\n",
       "      <th>3</th>\n",
       "      <td>bakersfield</td>\n",
       "      <td>3975</td>\n",
       "      <td>2006</td>\n",
       "      <td>pontiac</td>\n",
       "      <td>g6</td>\n",
       "      <td>gas</td>\n",
       "      <td>187000.0</td>\n",
       "      <td>clean</td>\n",
       "      <td>automatic</td>\n",
       "      <td>excellent</td>\n",
       "      <td>...</td>\n",
       "      <td>silver</td>\n",
       "      <td>ca</td>\n",
       "      <td>https://images.craigslist.org/00V0V_5uw5gVZjSk...</td>\n",
       "      <td>2021-05-04T11:35:04-0700</td>\n",
       "      <td>May-04</td>\n",
       "      <td>17</td>\n",
       "      <td>11000.000000</td>\n",
       "      <td>below average</td>\n",
       "      <td>American</td>\n",
       "      <td>luxury_small</td>\n",
       "    </tr>\n",
       "    <tr>\n",
       "      <th>4</th>\n",
       "      <td>bakersfield</td>\n",
       "      <td>8000</td>\n",
       "      <td>1972</td>\n",
       "      <td>chevrolet</td>\n",
       "      <td>chevelle</td>\n",
       "      <td>gas</td>\n",
       "      <td>61000.0</td>\n",
       "      <td>clean</td>\n",
       "      <td>automatic</td>\n",
       "      <td>fair</td>\n",
       "      <td>...</td>\n",
       "      <td>white</td>\n",
       "      <td>ca</td>\n",
       "      <td>https://images.craigslist.org/00U0U_gvATaIvxTn...</td>\n",
       "      <td>2021-05-04T11:30:14-0700</td>\n",
       "      <td>May-04</td>\n",
       "      <td>51</td>\n",
       "      <td>1196.078431</td>\n",
       "      <td>below average</td>\n",
       "      <td>American</td>\n",
       "      <td>luxury_large</td>\n",
       "    </tr>\n",
       "  </tbody>\n",
       "</table>\n",
       "<p>5 rows × 23 columns</p>\n",
       "</div>"
      ],
      "text/plain": [
       "        region  price  year     manufacturer                    model    fuel  \\\n",
       "0  bakersfield  11975  2003  harley-davidson                 davidson     gas   \n",
       "1  bakersfield  21950  2003        chevrolet           silverado 3500  diesel   \n",
       "2  bakersfield  15590  2015             mini  hardtop 2 door cooper s   other   \n",
       "3  bakersfield   3975  2006          pontiac                       g6     gas   \n",
       "4  bakersfield   8000  1972        chevrolet                 chevelle     gas   \n",
       "\n",
       "   odometer title_status transmission  condition  ... paint_color state  \\\n",
       "0  207000.0        clean    automatic  excellent  ...       black    ca   \n",
       "1  202537.0        clean    automatic  excellent  ...        grey    ca   \n",
       "2   60291.0        clean        other       good  ...         red    ca   \n",
       "3  187000.0        clean    automatic  excellent  ...      silver    ca   \n",
       "4   61000.0        clean    automatic       fair  ...       white    ca   \n",
       "\n",
       "                                           image_url  \\\n",
       "0  https://images.craigslist.org/00F0F_eEBhgvA15M...   \n",
       "1  https://images.craigslist.org/00m0m_9owDGrPLWK...   \n",
       "2  https://images.craigslist.org/00f0f_dGlIKGTKrJ...   \n",
       "3  https://images.craigslist.org/00V0V_5uw5gVZjSk...   \n",
       "4  https://images.craigslist.org/00U0U_gvATaIvxTn...   \n",
       "\n",
       "               posting_date  postmd Age       avg_mil     mil_rating  \\\n",
       "0  2021-05-04T12:26:43-0700  May-04  20  10350.000000  below average   \n",
       "1  2021-05-04T12:04:51-0700  May-04  20  10126.850000  below average   \n",
       "2  2021-05-04T11:41:15-0700  May-04   8   7536.375000  below average   \n",
       "3  2021-05-04T11:35:04-0700  May-04  17  11000.000000  below average   \n",
       "4  2021-05-04T11:30:14-0700  May-04  51   1196.078431  below average   \n",
       "\n",
       "       Made        type_group  \n",
       "0  American  non-luxury_small  \n",
       "1  American  non-luxury_small  \n",
       "2   English      luxury_small  \n",
       "3  American      luxury_small  \n",
       "4  American      luxury_large  \n",
       "\n",
       "[5 rows x 23 columns]"
      ]
     },
     "execution_count": 70,
     "metadata": {},
     "output_type": "execute_result"
    }
   ],
   "source": [
    "# classify car type\n",
    "def luxury(car):\n",
    "  if car['type'] in ['sedan', 'convertible','coupe','hatchback','other']:\n",
    "    cal='luxury_small'\n",
    "  elif (car['type'] in ['SUV','wagon']):\n",
    "    cal='luxury_large'\n",
    "  elif (car['type'] in ['pickup','truck','offroad']):\n",
    "    cal='non-luxury_small'\n",
    "  elif (car['type'] in ['van','mini-van','bus']):\n",
    "    cal='non-luxury_large'\n",
    "  return cal \n",
    "data_copy['type_group'] = data_copy.apply(luxury, axis=1)\n",
    "data_copy.head() "
   ]
  },
  {
   "cell_type": "code",
   "execution_count": 71,
   "id": "a60d1038",
   "metadata": {},
   "outputs": [
    {
     "data": {
      "text/html": [
       "<div>\n",
       "<style scoped>\n",
       "    .dataframe tbody tr th:only-of-type {\n",
       "        vertical-align: middle;\n",
       "    }\n",
       "\n",
       "    .dataframe tbody tr th {\n",
       "        vertical-align: top;\n",
       "    }\n",
       "\n",
       "    .dataframe thead th {\n",
       "        text-align: right;\n",
       "    }\n",
       "</style>\n",
       "<table border=\"1\" class=\"dataframe\">\n",
       "  <thead>\n",
       "    <tr style=\"text-align: right;\">\n",
       "      <th></th>\n",
       "      <th>region</th>\n",
       "      <th>price</th>\n",
       "      <th>year</th>\n",
       "      <th>manufacturer</th>\n",
       "      <th>model</th>\n",
       "      <th>fuel</th>\n",
       "      <th>odometer</th>\n",
       "      <th>title_status</th>\n",
       "      <th>transmission</th>\n",
       "      <th>condition</th>\n",
       "      <th>...</th>\n",
       "      <th>state</th>\n",
       "      <th>image_url</th>\n",
       "      <th>posting_date</th>\n",
       "      <th>postmd</th>\n",
       "      <th>Age</th>\n",
       "      <th>avg_mil</th>\n",
       "      <th>mil_rating</th>\n",
       "      <th>Made</th>\n",
       "      <th>type_group</th>\n",
       "      <th>color_group</th>\n",
       "    </tr>\n",
       "  </thead>\n",
       "  <tbody>\n",
       "    <tr>\n",
       "      <th>0</th>\n",
       "      <td>bakersfield</td>\n",
       "      <td>11975</td>\n",
       "      <td>2003</td>\n",
       "      <td>harley-davidson</td>\n",
       "      <td>davidson</td>\n",
       "      <td>gas</td>\n",
       "      <td>207000.0</td>\n",
       "      <td>clean</td>\n",
       "      <td>automatic</td>\n",
       "      <td>excellent</td>\n",
       "      <td>...</td>\n",
       "      <td>ca</td>\n",
       "      <td>https://images.craigslist.org/00F0F_eEBhgvA15M...</td>\n",
       "      <td>2021-05-04T12:26:43-0700</td>\n",
       "      <td>May-04</td>\n",
       "      <td>20</td>\n",
       "      <td>10350.000000</td>\n",
       "      <td>below average</td>\n",
       "      <td>American</td>\n",
       "      <td>non-luxury_small</td>\n",
       "      <td>dark color</td>\n",
       "    </tr>\n",
       "    <tr>\n",
       "      <th>1</th>\n",
       "      <td>bakersfield</td>\n",
       "      <td>21950</td>\n",
       "      <td>2003</td>\n",
       "      <td>chevrolet</td>\n",
       "      <td>silverado 3500</td>\n",
       "      <td>diesel</td>\n",
       "      <td>202537.0</td>\n",
       "      <td>clean</td>\n",
       "      <td>automatic</td>\n",
       "      <td>excellent</td>\n",
       "      <td>...</td>\n",
       "      <td>ca</td>\n",
       "      <td>https://images.craigslist.org/00m0m_9owDGrPLWK...</td>\n",
       "      <td>2021-05-04T12:04:51-0700</td>\n",
       "      <td>May-04</td>\n",
       "      <td>20</td>\n",
       "      <td>10126.850000</td>\n",
       "      <td>below average</td>\n",
       "      <td>American</td>\n",
       "      <td>non-luxury_small</td>\n",
       "      <td>dark color</td>\n",
       "    </tr>\n",
       "    <tr>\n",
       "      <th>2</th>\n",
       "      <td>bakersfield</td>\n",
       "      <td>15590</td>\n",
       "      <td>2015</td>\n",
       "      <td>mini</td>\n",
       "      <td>hardtop 2 door cooper s</td>\n",
       "      <td>other</td>\n",
       "      <td>60291.0</td>\n",
       "      <td>clean</td>\n",
       "      <td>other</td>\n",
       "      <td>good</td>\n",
       "      <td>...</td>\n",
       "      <td>ca</td>\n",
       "      <td>https://images.craigslist.org/00f0f_dGlIKGTKrJ...</td>\n",
       "      <td>2021-05-04T11:41:15-0700</td>\n",
       "      <td>May-04</td>\n",
       "      <td>8</td>\n",
       "      <td>7536.375000</td>\n",
       "      <td>below average</td>\n",
       "      <td>English</td>\n",
       "      <td>luxury_small</td>\n",
       "      <td>dark color</td>\n",
       "    </tr>\n",
       "    <tr>\n",
       "      <th>3</th>\n",
       "      <td>bakersfield</td>\n",
       "      <td>3975</td>\n",
       "      <td>2006</td>\n",
       "      <td>pontiac</td>\n",
       "      <td>g6</td>\n",
       "      <td>gas</td>\n",
       "      <td>187000.0</td>\n",
       "      <td>clean</td>\n",
       "      <td>automatic</td>\n",
       "      <td>excellent</td>\n",
       "      <td>...</td>\n",
       "      <td>ca</td>\n",
       "      <td>https://images.craigslist.org/00V0V_5uw5gVZjSk...</td>\n",
       "      <td>2021-05-04T11:35:04-0700</td>\n",
       "      <td>May-04</td>\n",
       "      <td>17</td>\n",
       "      <td>11000.000000</td>\n",
       "      <td>below average</td>\n",
       "      <td>American</td>\n",
       "      <td>luxury_small</td>\n",
       "      <td>light color</td>\n",
       "    </tr>\n",
       "    <tr>\n",
       "      <th>4</th>\n",
       "      <td>bakersfield</td>\n",
       "      <td>8000</td>\n",
       "      <td>1972</td>\n",
       "      <td>chevrolet</td>\n",
       "      <td>chevelle</td>\n",
       "      <td>gas</td>\n",
       "      <td>61000.0</td>\n",
       "      <td>clean</td>\n",
       "      <td>automatic</td>\n",
       "      <td>fair</td>\n",
       "      <td>...</td>\n",
       "      <td>ca</td>\n",
       "      <td>https://images.craigslist.org/00U0U_gvATaIvxTn...</td>\n",
       "      <td>2021-05-04T11:30:14-0700</td>\n",
       "      <td>May-04</td>\n",
       "      <td>51</td>\n",
       "      <td>1196.078431</td>\n",
       "      <td>below average</td>\n",
       "      <td>American</td>\n",
       "      <td>luxury_large</td>\n",
       "      <td>light color</td>\n",
       "    </tr>\n",
       "  </tbody>\n",
       "</table>\n",
       "<p>5 rows × 24 columns</p>\n",
       "</div>"
      ],
      "text/plain": [
       "        region  price  year     manufacturer                    model    fuel  \\\n",
       "0  bakersfield  11975  2003  harley-davidson                 davidson     gas   \n",
       "1  bakersfield  21950  2003        chevrolet           silverado 3500  diesel   \n",
       "2  bakersfield  15590  2015             mini  hardtop 2 door cooper s   other   \n",
       "3  bakersfield   3975  2006          pontiac                       g6     gas   \n",
       "4  bakersfield   8000  1972        chevrolet                 chevelle     gas   \n",
       "\n",
       "   odometer title_status transmission  condition  ... state  \\\n",
       "0  207000.0        clean    automatic  excellent  ...    ca   \n",
       "1  202537.0        clean    automatic  excellent  ...    ca   \n",
       "2   60291.0        clean        other       good  ...    ca   \n",
       "3  187000.0        clean    automatic  excellent  ...    ca   \n",
       "4   61000.0        clean    automatic       fair  ...    ca   \n",
       "\n",
       "                                           image_url  \\\n",
       "0  https://images.craigslist.org/00F0F_eEBhgvA15M...   \n",
       "1  https://images.craigslist.org/00m0m_9owDGrPLWK...   \n",
       "2  https://images.craigslist.org/00f0f_dGlIKGTKrJ...   \n",
       "3  https://images.craigslist.org/00V0V_5uw5gVZjSk...   \n",
       "4  https://images.craigslist.org/00U0U_gvATaIvxTn...   \n",
       "\n",
       "               posting_date  postmd Age       avg_mil     mil_rating  \\\n",
       "0  2021-05-04T12:26:43-0700  May-04  20  10350.000000  below average   \n",
       "1  2021-05-04T12:04:51-0700  May-04  20  10126.850000  below average   \n",
       "2  2021-05-04T11:41:15-0700  May-04   8   7536.375000  below average   \n",
       "3  2021-05-04T11:35:04-0700  May-04  17  11000.000000  below average   \n",
       "4  2021-05-04T11:30:14-0700  May-04  51   1196.078431  below average   \n",
       "\n",
       "       Made        type_group  color_group  \n",
       "0  American  non-luxury_small   dark color  \n",
       "1  American  non-luxury_small   dark color  \n",
       "2   English      luxury_small   dark color  \n",
       "3  American      luxury_small  light color  \n",
       "4  American      luxury_large  light color  \n",
       "\n",
       "[5 rows x 24 columns]"
      ]
     },
     "execution_count": 71,
     "metadata": {},
     "output_type": "execute_result"
    }
   ],
   "source": [
    "# classify car color\n",
    "def color(paint):\n",
    "  if paint['paint_color'] in ['white','silver','yellow','orange','green','custom']:\n",
    "    col='light color'\n",
    "  elif (paint['paint_color'] in ['black','red','blue','purple','grey','brown']):\n",
    "    col='dark color'\n",
    "  return col \n",
    "data_copy['color_group'] = data_copy.apply(color, axis=1)\n",
    "data_copy.head() "
   ]
  },
  {
   "cell_type": "code",
   "execution_count": 72,
   "id": "f07ca757",
   "metadata": {},
   "outputs": [],
   "source": [
    "#save data file and load\n",
    "data_copy.to_csv('vehicles2_FE.csv',index=False)"
   ]
  },
  {
   "cell_type": "markdown",
   "id": "24f68dee",
   "metadata": {},
   "source": [
    "# Modelling"
   ]
  },
  {
   "cell_type": "code",
   "execution_count": 73,
   "id": "e95a2bb8",
   "metadata": {},
   "outputs": [],
   "source": [
    "import pandas as pd\n",
    "import numpy as np\n",
    "df = pd.read_csv('vehicles2_FE.csv')\n",
    "df.drop(['image_url','posting_date','mil_rating','Made','type_group'\n",
    "         ,'color_group','postmd','avg_mil','region','state'],axis=1,inplace=True)"
   ]
  },
  {
   "cell_type": "code",
   "execution_count": 74,
   "id": "ab61c9e8",
   "metadata": {},
   "outputs": [
    {
     "data": {
      "text/plain": [
       "6 cylinders     38407\n",
       "4 cylinders     34445\n",
       "8 cylinders     29035\n",
       "5 cylinders       922\n",
       "10 cylinders      513\n",
       "other             349\n",
       "3 cylinders       129\n",
       "12 cylinders       40\n",
       "Name: cylinders, dtype: int64"
      ]
     },
     "execution_count": 74,
     "metadata": {},
     "output_type": "execute_result"
    }
   ],
   "source": [
    "df.cylinders.value_counts()"
   ]
  },
  {
   "cell_type": "code",
   "execution_count": 75,
   "id": "447b2908",
   "metadata": {},
   "outputs": [
    {
     "data": {
      "text/plain": [
       "6 cylinders     38407\n",
       "4 cylinders     34445\n",
       "8 cylinders     29035\n",
       "5 cylinders       922\n",
       "10 cylinders      513\n",
       "3 cylinders       129\n",
       "12 cylinders       40\n",
       "Name: cylinders, dtype: int64"
      ]
     },
     "execution_count": 75,
     "metadata": {},
     "output_type": "execute_result"
    }
   ],
   "source": [
    "import seaborn as sns\n",
    "df.cylinders.replace(\"other\",np.nan,inplace=True)\n",
    "df.cylinders.value_counts()"
   ]
  },
  {
   "cell_type": "code",
   "execution_count": 76,
   "id": "97e69c17",
   "metadata": {},
   "outputs": [],
   "source": [
    "#normalize the cylinders value counts and save into a dataframe\n",
    "cyl_prob = pd.DataFrame(list(df.cylinders.value_counts(normalize=True).items()),columns = ['cylinders','prob'])\n",
    "#substitute missing values in cylinder to random states based on their probabilities\n",
    "df.loc[df.cylinders.isna(), 'cylinders'] = np.random.choice(cyl_prob.cylinders, \n",
    "                                                size=df.cylinders.isna().sum(),\n",
    "                                                replace=True, \n",
    "                                                p=cyl_prob.prob)"
   ]
  },
  {
   "cell_type": "code",
   "execution_count": 77,
   "id": "f94b0e85",
   "metadata": {},
   "outputs": [
    {
     "data": {
      "text/plain": [
       "6 cylinders     38542\n",
       "4 cylinders     34560\n",
       "8 cylinders     29127\n",
       "5 cylinders       925\n",
       "10 cylinders      515\n",
       "3 cylinders       131\n",
       "12 cylinders       40\n",
       "Name: cylinders, dtype: int64"
      ]
     },
     "execution_count": 77,
     "metadata": {},
     "output_type": "execute_result"
    }
   ],
   "source": [
    "df.cylinders.value_counts()"
   ]
  },
  {
   "cell_type": "code",
   "execution_count": 78,
   "id": "5430636b",
   "metadata": {},
   "outputs": [
    {
     "data": {
      "text/plain": [
       "dtype('int32')"
      ]
     },
     "execution_count": 78,
     "metadata": {},
     "output_type": "execute_result"
    }
   ],
   "source": [
    "#since cylinder has the word 'cylinder' after the number, we remove it and make it numerical\n",
    "df['cylinders']=df['cylinders'].apply(lambda x:x.split(' ')[0])\n",
    "df['cylinders']=df['cylinders'].astype('int')\n",
    "df['cylinders'].dtype"
   ]
  },
  {
   "cell_type": "code",
   "execution_count": 79,
   "id": "f76d9050",
   "metadata": {},
   "outputs": [],
   "source": [
    "cols=['odometer','cylinders']"
   ]
  },
  {
   "cell_type": "code",
   "execution_count": 80,
   "id": "61f446bf",
   "metadata": {},
   "outputs": [
    {
     "name": "stdout",
     "output_type": "stream",
     "text": [
      "odometer\n",
      "--------------------------------------------------\n",
      "Percentiles: 25th=79393.000, 75th=150000.000, IQR=70607.000\n",
      "Lower: -26517.5  Upper: 255910.5\n",
      "Identified outliers: 1653\n",
      "Non-outlier observations: 102187\n"
     ]
    }
   ],
   "source": [
    "#further remove outliers in odometer for model purposes\n",
    "def find_outliers_limit(df,col):\n",
    "    print(col)\n",
    "    print('-'*50)\n",
    "    #removing outliers\n",
    "    q25, q75 = np.percentile(df[col], 25), np.percentile(df[col], 75)\n",
    "    iqr = q75 - q25\n",
    "    print('Percentiles: 25th=%.3f, 75th=%.3f, IQR=%.3f' % (q25, q75, iqr))\n",
    "    # calculate the outlier cutoff\n",
    "    cut_off = iqr * 1.5\n",
    "    lower, upper = q25 - cut_off, q75 + cut_off\n",
    "    print('Lower:',lower,' Upper:',upper)\n",
    "    return lower,upper\n",
    "def remove_outlier(df,col,upper,lower):\n",
    "    # identify outliers\n",
    "    outliers = [x for x in df[col] if x > upper or x < lower]\n",
    "    print('Identified outliers: %d' % len(outliers))\n",
    "    # remove outliers\n",
    "    outliers_removed = [x for x in df[col] if x >= lower and x <= upper]\n",
    "    print('Non-outlier observations: %d' % len(outliers_removed))\n",
    "    final= np.where(df[col]>upper,upper,np.where(df[col]<lower,lower,df[col]))\n",
    "    return final\n",
    "outlier_cols=['odometer']\n",
    "for col in outlier_cols:\n",
    "    lower,upper=find_outliers_limit(df,col)\n",
    "    df[col]=remove_outlier(df,col,upper,lower)"
   ]
  },
  {
   "cell_type": "markdown",
   "id": "c08b2033",
   "metadata": {},
   "source": [
    "Handling categorical columns\n",
    "We convert categorical columns to numerical values using scikit learn OrdinalEncoder"
   ]
  },
  {
   "cell_type": "code",
   "execution_count": 81,
   "id": "61c487e0",
   "metadata": {},
   "outputs": [],
   "source": [
    "# Loading Libraries\n",
    "from sklearn.preprocessing import OrdinalEncoder\n",
    "from sklearn.preprocessing import LabelEncoder\n",
    "from sklearn.model_selection import train_test_split\n",
    "from sklearn.metrics import mean_squared_error,mean_absolute_error,mean_absolute_percentage_error,r2_score\n",
    "import datetime\n",
    "from sklearn.ensemble import RandomForestRegressor"
   ]
  },
  {
   "cell_type": "markdown",
   "id": "3061ade2",
   "metadata": {},
   "source": [
    "Prepare data for modeling by handling categorical features"
   ]
  },
  {
   "cell_type": "code",
   "execution_count": 82,
   "id": "184d6fdc",
   "metadata": {},
   "outputs": [],
   "source": [
    "#select numerical and categorical data\n",
    "num_df=df.select_dtypes(include=np.number)\n",
    "cat_df=df.select_dtypes(include=object)\n",
    "#assign encoder\n",
    "encoding=OrdinalEncoder()\n",
    "#place categorical columns to list and encode\n",
    "cat_cols=cat_df.columns.tolist()\n",
    "encoding.fit(cat_df[cat_cols])\n",
    "#transform categorical encoding and place in dataframe\n",
    "cat_oe=encoding.transform(cat_df[cat_cols])\n",
    "cat_oe=pd.DataFrame(cat_oe,columns=cat_cols)\n",
    "cat_df.reset_index(inplace=True,drop=True)\n",
    "\n",
    "cat_oe.head()\n",
    "\n",
    "num_df.reset_index(inplace=True,drop=True)\n",
    "\n",
    "cat_oe.reset_index(inplace=True,drop=True)\n",
    "\n",
    "final_all_df=pd.concat([num_df,cat_oe],axis=1)"
   ]
  },
  {
   "cell_type": "code",
   "execution_count": 83,
   "id": "c36fe82e",
   "metadata": {},
   "outputs": [
    {
     "data": {
      "text/plain": [
       "<AxesSubplot:>"
      ]
     },
     "execution_count": 83,
     "metadata": {},
     "output_type": "execute_result"
    },
    {
     "data": {
      "image/png": "[encoded data removed]",
      "text/plain": [
       "<Figure size 1152x576 with 2 Axes>"
      ]
     },
     "metadata": {},
     "output_type": "display_data"
    }
   ],
   "source": [
    "#plot the correlation matrix\n",
    "plt.figure(figsize=(16,8))\n",
    "sns.heatmap(data=final_all_df.corr(),annot=True)"
   ]
  },
  {
   "cell_type": "code",
   "execution_count": 84,
   "id": "f557ebb8",
   "metadata": {},
   "outputs": [
    {
     "data": {
      "text/plain": [
       "Index(['price', 'year', 'manufacturer', 'model', 'fuel', 'odometer',\n",
       "       'title_status', 'transmission', 'condition', 'cylinders', 'drive',\n",
       "       'type', 'paint_color', 'Age'],\n",
       "      dtype='object')"
      ]
     },
     "execution_count": 84,
     "metadata": {},
     "output_type": "execute_result"
    }
   ],
   "source": [
    "df.columns"
   ]
  },
  {
   "cell_type": "code",
   "execution_count": 86,
   "id": "d7147bc4",
   "metadata": {},
   "outputs": [
    {
     "data": {
      "text/html": [
       "<div>\n",
       "<style scoped>\n",
       "    .dataframe tbody tr th:only-of-type {\n",
       "        vertical-align: middle;\n",
       "    }\n",
       "\n",
       "    .dataframe tbody tr th {\n",
       "        vertical-align: top;\n",
       "    }\n",
       "\n",
       "    .dataframe thead th {\n",
       "        text-align: right;\n",
       "    }\n",
       "</style>\n",
       "<table border=\"1\" class=\"dataframe\">\n",
       "  <thead>\n",
       "    <tr style=\"text-align: right;\">\n",
       "      <th></th>\n",
       "      <th>price</th>\n",
       "      <th>year</th>\n",
       "      <th>Age</th>\n",
       "      <th>odometer</th>\n",
       "      <th>cylinders</th>\n",
       "      <th>manufacturer</th>\n",
       "      <th>model</th>\n",
       "      <th>fuel</th>\n",
       "      <th>title_status</th>\n",
       "      <th>transmission</th>\n",
       "      <th>condition</th>\n",
       "      <th>drive</th>\n",
       "      <th>type</th>\n",
       "      <th>paint_color</th>\n",
       "    </tr>\n",
       "  </thead>\n",
       "  <tbody>\n",
       "    <tr>\n",
       "      <th>0</th>\n",
       "      <td>11975</td>\n",
       "      <td>2003</td>\n",
       "      <td>20</td>\n",
       "      <td>207000.0</td>\n",
       "      <td>8</td>\n",
       "      <td>harley-davidson</td>\n",
       "      <td>davidson</td>\n",
       "      <td>gas</td>\n",
       "      <td>clean</td>\n",
       "      <td>automatic</td>\n",
       "      <td>excellent</td>\n",
       "      <td>rwd</td>\n",
       "      <td>pickup</td>\n",
       "      <td>black</td>\n",
       "    </tr>\n",
       "    <tr>\n",
       "      <th>1</th>\n",
       "      <td>21950</td>\n",
       "      <td>2003</td>\n",
       "      <td>20</td>\n",
       "      <td>202537.0</td>\n",
       "      <td>8</td>\n",
       "      <td>chevrolet</td>\n",
       "      <td>silverado 3500</td>\n",
       "      <td>diesel</td>\n",
       "      <td>clean</td>\n",
       "      <td>automatic</td>\n",
       "      <td>excellent</td>\n",
       "      <td>4wd</td>\n",
       "      <td>truck</td>\n",
       "      <td>grey</td>\n",
       "    </tr>\n",
       "    <tr>\n",
       "      <th>2</th>\n",
       "      <td>15590</td>\n",
       "      <td>2015</td>\n",
       "      <td>8</td>\n",
       "      <td>60291.0</td>\n",
       "      <td>8</td>\n",
       "      <td>mini</td>\n",
       "      <td>hardtop 2 door cooper s</td>\n",
       "      <td>other</td>\n",
       "      <td>clean</td>\n",
       "      <td>other</td>\n",
       "      <td>good</td>\n",
       "      <td>4wd</td>\n",
       "      <td>hatchback</td>\n",
       "      <td>red</td>\n",
       "    </tr>\n",
       "    <tr>\n",
       "      <th>3</th>\n",
       "      <td>3975</td>\n",
       "      <td>2006</td>\n",
       "      <td>17</td>\n",
       "      <td>187000.0</td>\n",
       "      <td>4</td>\n",
       "      <td>pontiac</td>\n",
       "      <td>g6</td>\n",
       "      <td>gas</td>\n",
       "      <td>clean</td>\n",
       "      <td>automatic</td>\n",
       "      <td>excellent</td>\n",
       "      <td>fwd</td>\n",
       "      <td>sedan</td>\n",
       "      <td>silver</td>\n",
       "    </tr>\n",
       "    <tr>\n",
       "      <th>4</th>\n",
       "      <td>8000</td>\n",
       "      <td>1972</td>\n",
       "      <td>51</td>\n",
       "      <td>61000.0</td>\n",
       "      <td>8</td>\n",
       "      <td>chevrolet</td>\n",
       "      <td>chevelle</td>\n",
       "      <td>gas</td>\n",
       "      <td>clean</td>\n",
       "      <td>automatic</td>\n",
       "      <td>fair</td>\n",
       "      <td>rwd</td>\n",
       "      <td>SUV</td>\n",
       "      <td>white</td>\n",
       "    </tr>\n",
       "  </tbody>\n",
       "</table>\n",
       "</div>"
      ],
      "text/plain": [
       "   price  year  Age  odometer  cylinders     manufacturer  \\\n",
       "0  11975  2003   20  207000.0          8  harley-davidson   \n",
       "1  21950  2003   20  202537.0          8        chevrolet   \n",
       "2  15590  2015    8   60291.0          8             mini   \n",
       "3   3975  2006   17  187000.0          4          pontiac   \n",
       "4   8000  1972   51   61000.0          8        chevrolet   \n",
       "\n",
       "                     model    fuel title_status transmission  condition drive  \\\n",
       "0                 davidson     gas        clean    automatic  excellent   rwd   \n",
       "1           silverado 3500  diesel        clean    automatic  excellent   4wd   \n",
       "2  hardtop 2 door cooper s   other        clean        other       good   4wd   \n",
       "3                       g6     gas        clean    automatic  excellent   fwd   \n",
       "4                 chevelle     gas        clean    automatic       fair   rwd   \n",
       "\n",
       "        type paint_color  \n",
       "0     pickup       black  \n",
       "1      truck        grey  \n",
       "2  hatchback         red  \n",
       "3      sedan      silver  \n",
       "4        SUV       white  "
      ]
     },
     "execution_count": 86,
     "metadata": {},
     "output_type": "execute_result"
    }
   ],
   "source": [
    "data_reg = df.loc[:, ['price', 'year', 'Age', 'odometer','cylinders','manufacturer', 'model', 'fuel', \n",
    "                      'title_status', 'transmission', 'condition',  'drive',\n",
    "                      'type', 'paint_color']]\n",
    "label_reg = data_reg\n",
    "data_reg_original = data_reg\n",
    "data_reg.head()"
   ]
  },
  {
   "cell_type": "markdown",
   "id": "74f35705",
   "metadata": {},
   "source": [
    "Label Encoding\n",
    "#using LabelEncoder to convert categorical values to assign numerical values or the model"
   ]
  },
  {
   "cell_type": "code",
   "execution_count": 87,
   "id": "639f69cf",
   "metadata": {},
   "outputs": [
    {
     "data": {
      "text/html": [
       "<div>\n",
       "<style scoped>\n",
       "    .dataframe tbody tr th:only-of-type {\n",
       "        vertical-align: middle;\n",
       "    }\n",
       "\n",
       "    .dataframe tbody tr th {\n",
       "        vertical-align: top;\n",
       "    }\n",
       "\n",
       "    .dataframe thead th {\n",
       "        text-align: right;\n",
       "    }\n",
       "</style>\n",
       "<table border=\"1\" class=\"dataframe\">\n",
       "  <thead>\n",
       "    <tr style=\"text-align: right;\">\n",
       "      <th></th>\n",
       "      <th>price</th>\n",
       "      <th>year</th>\n",
       "      <th>Age</th>\n",
       "      <th>odometer</th>\n",
       "      <th>cylinders</th>\n",
       "      <th>manufacturer</th>\n",
       "      <th>model</th>\n",
       "      <th>fuel</th>\n",
       "      <th>title_status</th>\n",
       "      <th>transmission</th>\n",
       "      <th>condition</th>\n",
       "      <th>drive</th>\n",
       "      <th>type</th>\n",
       "      <th>paint_color</th>\n",
       "    </tr>\n",
       "  </thead>\n",
       "  <tbody>\n",
       "    <tr>\n",
       "      <th>0</th>\n",
       "      <td>11975</td>\n",
       "      <td>2003</td>\n",
       "      <td>20</td>\n",
       "      <td>207000.0</td>\n",
       "      <td>8</td>\n",
       "      <td>14</td>\n",
       "      <td>3316</td>\n",
       "      <td>2</td>\n",
       "      <td>0</td>\n",
       "      <td>0</td>\n",
       "      <td>0</td>\n",
       "      <td>2</td>\n",
       "      <td>8</td>\n",
       "      <td>0</td>\n",
       "    </tr>\n",
       "    <tr>\n",
       "      <th>1</th>\n",
       "      <td>21950</td>\n",
       "      <td>2003</td>\n",
       "      <td>20</td>\n",
       "      <td>202537.0</td>\n",
       "      <td>8</td>\n",
       "      <td>6</td>\n",
       "      <td>8732</td>\n",
       "      <td>0</td>\n",
       "      <td>0</td>\n",
       "      <td>0</td>\n",
       "      <td>0</td>\n",
       "      <td>0</td>\n",
       "      <td>10</td>\n",
       "      <td>5</td>\n",
       "    </tr>\n",
       "    <tr>\n",
       "      <th>2</th>\n",
       "      <td>15590</td>\n",
       "      <td>2015</td>\n",
       "      <td>8</td>\n",
       "      <td>60291.0</td>\n",
       "      <td>8</td>\n",
       "      <td>27</td>\n",
       "      <td>5715</td>\n",
       "      <td>4</td>\n",
       "      <td>0</td>\n",
       "      <td>2</td>\n",
       "      <td>2</td>\n",
       "      <td>0</td>\n",
       "      <td>4</td>\n",
       "      <td>8</td>\n",
       "    </tr>\n",
       "    <tr>\n",
       "      <th>3</th>\n",
       "      <td>3975</td>\n",
       "      <td>2006</td>\n",
       "      <td>17</td>\n",
       "      <td>187000.0</td>\n",
       "      <td>4</td>\n",
       "      <td>30</td>\n",
       "      <td>5387</td>\n",
       "      <td>2</td>\n",
       "      <td>0</td>\n",
       "      <td>0</td>\n",
       "      <td>0</td>\n",
       "      <td>1</td>\n",
       "      <td>9</td>\n",
       "      <td>9</td>\n",
       "    </tr>\n",
       "    <tr>\n",
       "      <th>4</th>\n",
       "      <td>8000</td>\n",
       "      <td>1972</td>\n",
       "      <td>51</td>\n",
       "      <td>61000.0</td>\n",
       "      <td>8</td>\n",
       "      <td>6</td>\n",
       "      <td>2552</td>\n",
       "      <td>2</td>\n",
       "      <td>0</td>\n",
       "      <td>0</td>\n",
       "      <td>1</td>\n",
       "      <td>2</td>\n",
       "      <td>0</td>\n",
       "      <td>10</td>\n",
       "    </tr>\n",
       "  </tbody>\n",
       "</table>\n",
       "</div>"
      ],
      "text/plain": [
       "   price  year  Age  odometer  cylinders  manufacturer  model  fuel  \\\n",
       "0  11975  2003   20  207000.0          8            14   3316     2   \n",
       "1  21950  2003   20  202537.0          8             6   8732     0   \n",
       "2  15590  2015    8   60291.0          8            27   5715     4   \n",
       "3   3975  2006   17  187000.0          4            30   5387     2   \n",
       "4   8000  1972   51   61000.0          8             6   2552     2   \n",
       "\n",
       "   title_status  transmission  condition  drive  type  paint_color  \n",
       "0             0             0          0      2     8            0  \n",
       "1             0             0          0      0    10            5  \n",
       "2             0             2          2      0     4            8  \n",
       "3             0             0          0      1     9            9  \n",
       "4             0             0          1      2     0           10  "
      ]
     },
     "execution_count": 87,
     "metadata": {},
     "output_type": "execute_result"
    }
   ],
   "source": [
    "label_reg = data_reg\n",
    "\n",
    "le_manufacturer = LabelEncoder()\n",
    "le_model = LabelEncoder()\n",
    "le_fuel = LabelEncoder()\n",
    "le_title_status = LabelEncoder()\n",
    "le_transmission = LabelEncoder()\n",
    "le_condition = LabelEncoder()\n",
    "le_drive = LabelEncoder()\n",
    "le_type = LabelEncoder()\n",
    "le_color = LabelEncoder()\n",
    "\n",
    "label_reg[\"type\"] = le_type.fit_transform(label_reg['type'])\n",
    "label_reg[\"manufacturer\"] = le_manufacturer.fit_transform(label_reg['manufacturer'])\n",
    "label_reg['paint_color'] = le_color.fit_transform(label_reg['paint_color'])\n",
    "label_reg['drive'] = le_drive.fit_transform(label_reg['drive'])\n",
    "label_reg[\"fuel\"] = le_fuel.fit_transform(label_reg['fuel'])\n",
    "label_reg[\"title_status\"] = le_title_status.fit_transform(label_reg['title_status'])\n",
    "label_reg['transmission'] = le_transmission.fit_transform(label_reg['transmission'])\n",
    "label_reg['condition'] = le_condition.fit_transform(label_reg['condition'])\n",
    "label_reg['model'] = le_model.fit_transform(label_reg['model'])\n",
    "\n",
    "label_reg.head()"
   ]
  },
  {
   "cell_type": "markdown",
   "id": "672f322a",
   "metadata": {},
   "source": [
    "Split the data into train and test data in an 80-20 split."
   ]
  },
  {
   "cell_type": "code",
   "execution_count": 88,
   "id": "5cac79c4",
   "metadata": {},
   "outputs": [],
   "source": [
    "X_regla = label_reg.drop('price', axis = 1)\n",
    "y_regla = label_reg['price']\n",
    "\n",
    "X_train, X_test, y_train, y_test = train_test_split(X_regla, y_regla, test_size = 0.2, random_state = 25)\n"
   ]
  },
  {
   "cell_type": "markdown",
   "id": "74e75154",
   "metadata": {},
   "source": [
    "Random Forest Algorithm"
   ]
  },
  {
   "cell_type": "code",
   "execution_count": 90,
   "id": "9f314aaa",
   "metadata": {},
   "outputs": [
    {
     "name": "stdout",
     "output_type": "stream",
     "text": [
      "0.9830784249606488 0.8815807632500596\n"
     ]
    }
   ],
   "source": [
    "random_forest = RandomForestRegressor(n_estimators = 250, max_features = 'sqrt', n_jobs = 20)\n",
    "random_forest.fit(X_train, y_train.values.ravel())\n",
    "print(random_forest.score(X_train, y_train), random_forest.score(X_test, y_test))"
   ]
  },
  {
   "cell_type": "markdown",
   "id": "9d4b86e4",
   "metadata": {},
   "source": [
    "Model Evaluation"
   ]
  },
  {
   "cell_type": "code",
   "execution_count": 95,
   "id": "8db40bb2",
   "metadata": {},
   "outputs": [
    {
     "name": "stdout",
     "output_type": "stream",
     "text": [
      "RandomForestRegressor Accuracy Evaluation\n",
      "r2 score: 0.8815807632500596\n",
      "Mean absolute error: 2208.1013648595263\n",
      "Mean squared error: 16190115.328171061\n",
      "Mean absolute percentage error: 0.25627393329213544\n"
     ]
    }
   ],
   "source": [
    "print('RandomForestRegressor Accuracy Evaluation')\n",
    "print(f'r2 score: {r2_score(y_test, random_forest.predict(X_test))}')\n",
    "print(f'Mean absolute error: {mean_absolute_error(y_test, random_forest.predict(X_test))}')\n",
    "print(f'Mean squared error: {mean_squared_error(y_test, random_forest.predict(X_test))}')\n",
    "print(f'Mean absolute percentage error: {mean_absolute_percentage_error(y_test, random_forest.predict(X_test))}')"
   ]
  },
  {
   "cell_type": "code",
   "execution_count": 97,
   "id": "9b2acc26",
   "metadata": {},
   "outputs": [
    {
     "data": {
      "text/plain": [
       "['final_RFModel.pkl']"
      ]
     },
     "execution_count": 97,
     "metadata": {},
     "output_type": "execute_result"
    }
   ],
   "source": [
    "import joblib\n",
    "joblib.dump(random_forest, 'final_RFModel.pkl' )"
   ]
  },
  {
   "cell_type": "code",
   "execution_count": null,
   "id": "76516199",
   "metadata": {},
   "outputs": [],
   "source": []
  }
 ],
 "metadata": {
  "kernelspec": {
   "display_name": "Python 3 (ipykernel)",
   "language": "python",
   "name": "python3"
  },
  "language_info": {
   "codemirror_mode": {
    "name": "ipython",
    "version": 3
   },
   "file_extension": ".py",
   "mimetype": "text/x-python",
   "name": "python",
   "nbconvert_exporter": "python",
   "pygments_lexer": "ipython3",
   "version": "3.9.12"
  }
 },
 "nbformat": 4,
 "nbformat_minor": 5
}
